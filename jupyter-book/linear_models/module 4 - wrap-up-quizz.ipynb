{
 "cells": [
  {
   "cell_type": "markdown",
   "id": "5bbe0df8",
   "metadata": {},
   "source": [
    "# 🏁 Wrap-up quiz\n",
    "\n",
    "**This quiz requires some programming to be answered.**\n",
    "\n",
    "Open the dataset `house_prices.csv` with the following command:"
   ]
  },
  {
   "cell_type": "code",
   "execution_count": 2,
   "id": "de04ff0d",
   "metadata": {
    "ExecuteTime": {
     "end_time": "2021-06-03T08:26:17.964138Z",
     "start_time": "2021-06-03T08:26:17.759258Z"
    }
   },
   "outputs": [],
   "source": [
    "import pandas as pd\n",
    "\n",
    "ames_housing = pd.read_csv(\"../datasets/house_prices.csv\", na_values=\"?\")\n",
    "target_name = \"SalePrice\"\n",
    "data = ames_housing.drop(columns=target_name)\n",
    "target = ames_housing[target_name]\n"
   ]
  },
  {
   "cell_type": "markdown",
   "id": "dbd2d037",
   "metadata": {},
   "source": [
    "`ames_housing` is a pandas dataframe. The column \"SalePrice\" contains the\n",
    "target variable. Note that we instructed pandas to treat the character \"?\" as a\n",
    "marker for cells with missing values also known as \"null\" values.\n",
    "\n",
    "To simplify this exercise, we will only used the numerical features defined\n",
    "below:"
   ]
  },
  {
   "cell_type": "code",
   "execution_count": 3,
   "id": "4e3471fc",
   "metadata": {
    "ExecuteTime": {
     "end_time": "2021-06-03T08:26:44.898584Z",
     "start_time": "2021-06-03T08:26:44.893663Z"
    }
   },
   "outputs": [],
   "source": [
    "numerical_features = [\n",
    "    \"LotFrontage\", \"LotArea\", \"MasVnrArea\", \"BsmtFinSF1\", \"BsmtFinSF2\",\n",
    "    \"BsmtUnfSF\", \"TotalBsmtSF\", \"1stFlrSF\", \"2ndFlrSF\", \"LowQualFinSF\",\n",
    "    \"GrLivArea\", \"BedroomAbvGr\", \"KitchenAbvGr\", \"TotRmsAbvGrd\", \"Fireplaces\",\n",
    "    \"GarageCars\", \"GarageArea\", \"WoodDeckSF\", \"OpenPorchSF\", \"EnclosedPorch\",\n",
    "    \"3SsnPorch\", \"ScreenPorch\", \"PoolArea\", \"MiscVal\",\n",
    "]\n",
    "\n",
    "data_numerical = data[numerical_features]\n"
   ]
  },
  {
   "cell_type": "markdown",
   "id": "45cd1599",
   "metadata": {},
   "source": [
    "Start by fitting a linear regression (`sklearn.linear_model.LinearRegression`).\n",
    "Use a 10-fold cross-validation and pass the argument `return_estimator=True` in\n",
    "`sklearn.model_selection.cross_validate` to access all fitted estimators fitted\n",
    "on each fold. As we saw in the previous notebooks, you will have to use a\n",
    "`sklearn.preprocessing.StandardScaler` to scale the data before passing it to\n",
    "the regressor. Also, some missing data are present in the different columns.\n",
    "You can use a `sklearn.impute.SimpleImputer` with the default parameters to\n",
    "impute missing data."
   ]
  },
  {
   "cell_type": "code",
   "execution_count": 4,
   "id": "cc4b4704",
   "metadata": {
    "ExecuteTime": {
     "end_time": "2021-06-03T08:30:35.771150Z",
     "start_time": "2021-06-03T08:30:35.655177Z"
    }
   },
   "outputs": [],
   "source": [
    "from sklearn.pipeline import make_pipeline\n",
    "from sklearn.preprocessing import StandardScaler\n",
    "from sklearn.impute import SimpleImputer\n",
    "from sklearn.linear_model import LinearRegression\n",
    "from sklearn.model_selection import cross_validate\n",
    "\n",
    "model = make_pipeline(StandardScaler(), SimpleImputer(), LinearRegression())\n",
    "cv_result = cross_validate(model, data_numerical, target, cv=10, return_estimator=True)"
   ]
  },
  {
   "cell_type": "code",
   "execution_count": 15,
   "id": "7c367250",
   "metadata": {
    "ExecuteTime": {
     "end_time": "2021-06-03T08:35:50.012029Z",
     "start_time": "2021-06-03T08:35:50.003543Z"
    }
   },
   "outputs": [
    {
     "name": "stdout",
     "output_type": "stream",
     "text": [
      "Fold #0 - features selected are: [10 15]\n",
      " and weights are 20942.868431280887\n",
      "Fold #1 - features selected are: [8 6]\n",
      " and weights are 3.820401414396077e+17\n",
      "Fold #2 - features selected are: [10 15]\n",
      " and weights are 19834.47165586813\n",
      "Fold #3 - features selected are: [10 15]\n",
      " and weights are 20243.84416556719\n",
      "Fold #4 - features selected are: [10 15]\n",
      " and weights are 19634.19681674728\n",
      "Fold #5 - features selected are: [10 15]\n",
      " and weights are 22652.887617370136\n",
      "Fold #6 - features selected are: [10 15]\n",
      " and weights are 20200.509719152655\n",
      "Fold #7 - features selected are: [10 15]\n",
      " and weights are 20103.706511184588\n",
      "Fold #8 - features selected are: [ 6 10]\n",
      " and weights are 17152.20750661062\n",
      "Fold #9 - features selected are: [ 3 10]\n",
      " and weights are 1.8041680050201856e+18\n"
     ]
    }
   ],
   "source": [
    "import numpy as np \n",
    "cv_result['estimator']\n",
    "\n",
    "for idx, pipeline in enumerate(cv_result[\"estimator\"]):\n",
    "    print(\n",
    "        f\"Fold #{idx} - features selected are: \"\n",
    "        f\"{np.argsort(pipeline[-1].coef_)[-2:]}\"\n",
    "        f\"\\n and weights are {np.max(abs(pipeline[-1].coef_))}\"\n",
    "    )\n"
   ]
  },
  {
   "cell_type": "markdown",
   "id": "435cc681",
   "metadata": {},
   "source": [
    "# Question 1\n",
    "What is the order of magnitude of the extremum weight values over all the features:\n",
    "\n",
    "- a) 1e4\n",
    "- b) 1e6\n",
    "- c) 1e18\n",
    "\n",
    "_Select a single answer_\n"
   ]
  },
  {
   "cell_type": "markdown",
   "id": "678a058e",
   "metadata": {},
   "source": [
    "+++\n",
    "\n",
    "Repeat the same experiment by fitting a ridge regressor\n",
    "(`sklearn.linear_model.Ridge`) with the default parameter."
   ]
  },
  {
   "cell_type": "code",
   "execution_count": 16,
   "id": "49275f42",
   "metadata": {
    "ExecuteTime": {
     "end_time": "2021-06-03T08:37:00.667080Z",
     "start_time": "2021-06-03T08:37:00.591317Z"
    }
   },
   "outputs": [],
   "source": [
    "from sklearn.pipeline import make_pipeline\n",
    "from sklearn.preprocessing import StandardScaler\n",
    "from sklearn.impute import SimpleImputer\n",
    "from sklearn.linear_model import Ridge\n",
    "from sklearn.model_selection import cross_validate\n",
    "\n",
    "model = make_pipeline(StandardScaler(), SimpleImputer(), Ridge())\n",
    "cv_result = cross_validate(model, data_numerical, target, cv=10, return_estimator=True)"
   ]
  },
  {
   "cell_type": "code",
   "execution_count": 17,
   "id": "1d4809d5",
   "metadata": {
    "ExecuteTime": {
     "end_time": "2021-06-03T08:37:08.634136Z",
     "start_time": "2021-06-03T08:37:08.629913Z"
    }
   },
   "outputs": [
    {
     "name": "stdout",
     "output_type": "stream",
     "text": [
      "Fold #0 - features selected are: [10 15]\n",
      " and weights are 20868.215473229386\n",
      "Fold #1 - features selected are: [10 15]\n",
      " and weights are 20330.3048222674\n",
      "Fold #2 - features selected are: [10 15]\n",
      " and weights are 19764.80244161082\n",
      "Fold #3 - features selected are: [10 15]\n",
      " and weights are 20169.142445251662\n",
      "Fold #4 - features selected are: [10 15]\n",
      " and weights are 19570.04868516873\n",
      "Fold #5 - features selected are: [10 15]\n",
      " and weights are 22561.856453251723\n",
      "Fold #6 - features selected are: [10 15]\n",
      " and weights are 20127.805614522495\n",
      "Fold #7 - features selected are: [10 15]\n",
      " and weights are 20032.776933179204\n",
      "Fold #8 - features selected are: [ 6 10]\n",
      " and weights are 17143.069696078583\n",
      "Fold #9 - features selected are: [10 15]\n",
      " and weights are 19143.34269459518\n"
     ]
    }
   ],
   "source": [
    "import numpy as np \n",
    "cv_result['estimator']\n",
    "\n",
    "for idx, pipeline in enumerate(cv_result[\"estimator\"]):\n",
    "    print(\n",
    "        f\"Fold #{idx} - features selected are: \"\n",
    "        f\"{np.argsort(pipeline[-1].coef_)[-2:]}\"\n",
    "        f\"\\n and weights are {np.max(abs(pipeline[-1].coef_))}\"\n",
    "    )"
   ]
  },
  {
   "cell_type": "markdown",
   "id": "52566fc0",
   "metadata": {},
   "source": [
    "# Question 2\n",
    "What magnitude of the extremum weight values for all features?\n",
    "\n",
    "- a) 1e4\n",
    "- b) 1e6\n",
    "- c) 1e18\n",
    "\n",
    "_Select a single answer_\n",
    "```"
   ]
  },
  {
   "cell_type": "markdown",
   "id": "1dfd627e",
   "metadata": {},
   "source": [
    "+++"
   ]
  },
  {
   "cell_type": "markdown",
   "id": "e62e31fa",
   "metadata": {},
   "source": [
    "# Question 3\n",
    "What are the two most important features used by the ridge regressor? You can\n",
    "make a box-plot of the coefficients across all folds to get a good insight.\n",
    "\n",
    "- a) `\"MiscVal\"` and `\"BsmtFinSF1\"`\n",
    "- b) `\"GarageCars\"` and `\"GrLivArea\"`\n",
    "- c) `\"TotalBsmtSF\"` and `\"GarageCars\"`\n",
    "\n",
    "_Select a single answer_\n",
    "```"
   ]
  },
  {
   "cell_type": "code",
   "execution_count": 23,
   "id": "0d6b638d",
   "metadata": {
    "ExecuteTime": {
     "end_time": "2021-06-03T08:44:23.192283Z",
     "start_time": "2021-06-03T08:44:22.920876Z"
    }
   },
   "outputs": [
    {
     "data": {
      "image/png": "[encoded data removed]",
      "text/plain": [
       "<Figure size 432x288 with 1 Axes>"
      ]
     },
     "metadata": {
      "needs_background": "light"
     },
     "output_type": "display_data"
    }
   ],
   "source": [
    "import pandas as pd\n",
    "\n",
    "weights = pd.DataFrame(\n",
    "    [np.abs(est[-1].coef_) for est in cv_result[\"estimator\"]], columns=data[numerical_features].columns)\n",
    "import matplotlib.pyplot as plt\n",
    "\n",
    "color = {\"whiskers\": \"black\", \"medians\": \"black\", \"caps\": \"black\"}\n",
    "weights.plot.box(color=color, vert=False)\n",
    "_ = plt.title(\"Value of linear regression coefficients\")\n"
   ]
  },
  {
   "cell_type": "markdown",
   "id": "a01b9f57",
   "metadata": {},
   "source": [
    "+++\n",
    "\n",
    "Remove the feature `\"GarageArea\"` from the dataset and repeat the previous\n",
    "experiment."
   ]
  },
  {
   "cell_type": "code",
   "execution_count": 30,
   "id": "8fc6bd0f",
   "metadata": {
    "ExecuteTime": {
     "end_time": "2021-06-03T08:53:20.825401Z",
     "start_time": "2021-06-03T08:53:20.458176Z"
    }
   },
   "outputs": [
    {
     "data": {
      "image/png": "[encoded data removed]",
      "text/plain": [
       "<Figure size 432x288 with 1 Axes>"
      ]
     },
     "metadata": {
      "needs_background": "light"
     },
     "output_type": "display_data"
    }
   ],
   "source": [
    "numerical_features_wo_garage = [\n",
    "    \"LotFrontage\", \"LotArea\", \"MasVnrArea\", \"BsmtFinSF1\", \"BsmtFinSF2\",\n",
    "    \"BsmtUnfSF\", \"TotalBsmtSF\", \"1stFlrSF\", \"2ndFlrSF\", \"LowQualFinSF\",\n",
    "    \"GrLivArea\", \"BedroomAbvGr\", \"KitchenAbvGr\", \"TotRmsAbvGrd\", \"Fireplaces\",\n",
    "    \"GarageCars\", \"WoodDeckSF\", \"OpenPorchSF\", \"EnclosedPorch\",\n",
    "    \"3SsnPorch\", \"ScreenPorch\", \"PoolArea\", \"MiscVal\",\n",
    "]\n",
    "\n",
    "data_wo_garage_numerical = data[numerical_features_wo_garage]\n",
    "\n",
    "\n",
    "\n",
    "cv_result = cross_validate(model, data_wo_garage_numerical, target, cv=10, return_estimator=True)\n",
    "weights = pd.DataFrame(\n",
    "    [np.abs(est[-1].coef_) for est in cv_result[\"estimator\"]], columns=data_wo_garage_numerical.columns)\n",
    "import matplotlib.pyplot as plt\n",
    "\n",
    "color = {\"whiskers\": \"black\", \"medians\": \"black\", \"caps\": \"black\"}\n",
    "weights.plot.box(color=color, vert=False)\n",
    "_ = plt.title(\"Value of linear regression coefficients\")\n"
   ]
  },
  {
   "cell_type": "markdown",
   "id": "a67a3a32",
   "metadata": {},
   "source": [
    "# Question 4\n",
    "What is the impact on the weights of removing `\"GarageArea\"` from the dataset?\n",
    "\n",
    "- a) None\n",
    "- b) Change completely the order of the feature importance\n",
    "- c) The variability of the most important feature reduced\n",
    "\n",
    "_Select a single answer_\n",
    "```\n",
    "\n",
    "+++"
   ]
  },
  {
   "cell_type": "markdown",
   "id": "372e59d0",
   "metadata": {},
   "source": [
    "# Question 5\n",
    "What is the reason for observing the previous impact on the most important\n",
    "weight?\n",
    "\n",
    "- a) Both features are correlated and are carrying similar information\n",
    "- b) Removing a feature reduce the noise in the dataset\n",
    "- c) Just some random effects\n",
    "\n",
    "_Select a single answer_\n",
    "```"
   ]
  },
  {
   "cell_type": "markdown",
   "id": "bb5f3fd1",
   "metadata": {},
   "source": [
    "+++\n",
    "\n",
    "Now, we will search for the regularization strength that will maximize the\n",
    "statistical performance of our predictive model. Fit a\n",
    "[`sklearn.linear_model.RidgeCV`](https://scikit-learn.org/stable/modules/generated/sklearn.linear_model.RidgeCV.html)\n",
    "instead of a `Ridge` regressor pass `alphas=np.logspace(-1, 3, num=30)` to\n",
    "explore the effect of changing the regularization strength."
   ]
  },
  {
   "cell_type": "code",
   "execution_count": 31,
   "id": "e630d4b3",
   "metadata": {
    "ExecuteTime": {
     "end_time": "2021-06-03T08:59:46.225227Z",
     "start_time": "2021-06-03T08:59:45.714570Z"
    }
   },
   "outputs": [
    {
     "data": {
      "image/png": "[encoded data removed]",
      "text/plain": [
       "<Figure size 432x288 with 1 Axes>"
      ]
     },
     "metadata": {
      "needs_background": "light"
     },
     "output_type": "display_data"
    }
   ],
   "source": [
    "from sklearn.pipeline import make_pipeline\n",
    "from sklearn.preprocessing import StandardScaler\n",
    "from sklearn.impute import SimpleImputer\n",
    "from sklearn.linear_model import RidgeCV\n",
    "from sklearn.model_selection import cross_validate\n",
    "import numpy as np\n",
    "import pandas as pd\n",
    "\n",
    "model = make_pipeline(StandardScaler(), SimpleImputer(), RidgeCV(alphas=np.logspace(-1, 3, num=30)))\n",
    "cv_result = cross_validate(model, data_numerical, target, cv=10, return_estimator=True)\n",
    "\n",
    "weights = pd.DataFrame(\n",
    "    [np.abs(est[-1].coef_) for est in cv_result[\"estimator\"]], columns=data_numerical.columns)\n",
    "import matplotlib.pyplot as plt\n",
    "\n",
    "color = {\"whiskers\": \"black\", \"medians\": \"black\", \"caps\": \"black\"}\n",
    "weights.plot.box(color=color, vert=False)\n",
    "_ = plt.title(\"Value of linear regression coefficients\")"
   ]
  },
  {
   "cell_type": "markdown",
   "id": "9f0c3db8",
   "metadata": {},
   "source": [
    "# Question 6\n",
    "Are there major differences regarding the most important weights?\n",
    "\n",
    "- a) Yes, the weights order is completely different\n",
    "- b) No, the weights order is very similar\n",
    "\n",
    "_Select a single answer_\n",
    "```\n",
    "\n",
    "+++"
   ]
  },
  {
   "cell_type": "markdown",
   "id": "139009f9",
   "metadata": {},
   "source": [
    "Check the parameter `alpha_` (the regularization strength) for the different\n",
    "ridge regressors obtained on each fold."
   ]
  },
  {
   "cell_type": "code",
   "execution_count": 34,
   "id": "e8056020",
   "metadata": {
    "ExecuteTime": {
     "end_time": "2021-06-03T09:01:44.195650Z",
     "start_time": "2021-06-03T09:01:44.192158Z"
    }
   },
   "outputs": [
    {
     "data": {
      "text/plain": [
       "[385.6620421163472,\n",
       " 385.6620421163472,\n",
       " 385.6620421163472,\n",
       " 385.6620421163472,\n",
       " 385.6620421163472,\n",
       " 385.6620421163472,\n",
       " 385.6620421163472,\n",
       " 385.6620421163472,\n",
       " 57.361525104486816,\n",
       " 385.6620421163472]"
      ]
     },
     "execution_count": 34,
     "metadata": {},
     "output_type": "execute_result"
    }
   ],
   "source": [
    "cv_result\n",
    "[np.abs(est[-1].alpha_) for est in cv_result[\"estimator\"]]"
   ]
  },
  {
   "cell_type": "markdown",
   "id": "99a5a60a",
   "metadata": {},
   "source": [
    "# Question 7\n",
    "In which range does `alpha_` fall into for most folds?\n",
    "\n",
    "- a) between 0.1 and 1\n",
    "- b) between 1 and 10\n",
    "- c) between 10 and 100\n",
    "- d) between 100 and 1000\n",
    "\n",
    "_Select a single answer_\n",
    "```"
   ]
  },
  {
   "cell_type": "markdown",
   "id": "49d1aa17",
   "metadata": {},
   "source": [
    "+++\n",
    "\n",
    "Now, we will tackle a classification problem instead of a regression problem.\n",
    "Load the Adult Census dataset with the following snippet of code and we will\n",
    "work only with **numerical features**."
   ]
  },
  {
   "cell_type": "code",
   "execution_count": 35,
   "id": "9c909b55",
   "metadata": {
    "ExecuteTime": {
     "end_time": "2021-06-03T09:02:17.705211Z",
     "start_time": "2021-06-03T09:02:17.641842Z"
    }
   },
   "outputs": [],
   "source": [
    "adult_census = pd.read_csv(\"../datasets/adult-census.csv\")\n",
    "target = adult_census[\"class\"]\n",
    "data = adult_census.select_dtypes([\"integer\", \"floating\"])\n",
    "data = data.drop(columns=[\"education-num\"])\n"
   ]
  },
  {
   "cell_type": "code",
   "execution_count": 36,
   "id": "3a867f92",
   "metadata": {
    "ExecuteTime": {
     "end_time": "2021-06-03T09:02:39.584072Z",
     "start_time": "2021-06-03T09:02:39.576677Z"
    }
   },
   "outputs": [
    {
     "name": "stdout",
     "output_type": "stream",
     "text": [
      "<class 'pandas.core.frame.DataFrame'>\n",
      "RangeIndex: 48842 entries, 0 to 48841\n",
      "Data columns (total 4 columns):\n",
      " #   Column          Non-Null Count  Dtype\n",
      "---  ------          --------------  -----\n",
      " 0   age             48842 non-null  int64\n",
      " 1   capital-gain    48842 non-null  int64\n",
      " 2   capital-loss    48842 non-null  int64\n",
      " 3   hours-per-week  48842 non-null  int64\n",
      "dtypes: int64(4)\n",
      "memory usage: 1.5 MB\n"
     ]
    }
   ],
   "source": [
    "data.info()"
   ]
  },
  {
   "cell_type": "markdown",
   "id": "7370c2d0",
   "metadata": {},
   "source": [
    "# Question 8\n",
    "How many numerical features are present in the dataset?\n",
    "\n",
    "- a) 3\n",
    "- b) 4\n",
    "- c) 5\n",
    "\n",
    "_Select a single answer_\n"
   ]
  },
  {
   "cell_type": "markdown",
   "id": "22354768",
   "metadata": {},
   "source": [
    "# Question 9\n",
    "Are there missing values in this dataset?\n",
    "\n",
    "- a) Yes\n",
    "- b) No\n",
    "\n",
    "_Select a single answer_\n",
    "\n",
    "Hint: you can use `df.info()` to get information regarding each column.\n",
    "```"
   ]
  },
  {
   "cell_type": "markdown",
   "id": "cf3add5b",
   "metadata": {},
   "source": [
    "+++\n",
    "\n",
    "Fit a `sklearn.linear_model.LogisticRegression` classifier using a 10-fold\n",
    "cross-validation to assess the performance. Since we are dealing with a linear\n",
    "model, do not forget to scale the data with a `StandardScaler` before training\n",
    "the model."
   ]
  },
  {
   "cell_type": "code",
   "execution_count": 48,
   "id": "02c3e0a0",
   "metadata": {
    "ExecuteTime": {
     "end_time": "2021-06-03T09:12:18.272361Z",
     "start_time": "2021-06-03T09:12:16.410733Z"
    }
   },
   "outputs": [
    {
     "name": "stdout",
     "output_type": "stream",
     "text": [
      "Score is 0.80 +/- 0.00\n"
     ]
    }
   ],
   "source": [
    "from sklearn.pipeline import make_pipeline\n",
    "from sklearn.preprocessing import StandardScaler\n",
    "from sklearn.linear_model import LogisticRegression\n",
    "from sklearn.model_selection import cross_validate\n",
    "\n",
    "model = make_pipeline(StandardScaler(), LogisticRegression())\n",
    "cv_result = cross_validate(model, data, target, cv=10, return_estimator=True)\n",
    "cv_result\n",
    "\n",
    "print(f'Score is {cv_result[\"test_score\"].mean():0.2f} +/- {cv_result[\"test_score\"].std():0.2f}')"
   ]
  },
  {
   "cell_type": "code",
   "execution_count": 45,
   "id": "600528ea",
   "metadata": {
    "ExecuteTime": {
     "end_time": "2021-06-03T09:09:22.815987Z",
     "start_time": "2021-06-03T09:09:22.808761Z"
    }
   },
   "outputs": [
    {
     "data": {
      "text/plain": [
       " <=50K    37155\n",
       " >50K     11687\n",
       "Name: class, dtype: int64"
      ]
     },
     "execution_count": 45,
     "metadata": {},
     "output_type": "execute_result"
    }
   ],
   "source": [
    "target.value_counts()"
   ]
  },
  {
   "cell_type": "code",
   "execution_count": 46,
   "id": "78104d72",
   "metadata": {
    "ExecuteTime": {
     "end_time": "2021-06-03T09:10:07.149915Z",
     "start_time": "2021-06-03T09:10:07.050889Z"
    }
   },
   "outputs": [
    {
     "name": "stdout",
     "output_type": "stream",
     "text": [
      "Accuracy of a model predicting only low revenue: 0.761\n"
     ]
    }
   ],
   "source": [
    "from sklearn.dummy import DummyClassifier\n",
    "\n",
    "class_to_predict = \" <=50K\"\n",
    "low_revenue_clf = DummyClassifier(strategy=\"constant\",\n",
    "                                  constant=class_to_predict)\n",
    "low_revenue_clf.fit(data, target)\n",
    "score = low_revenue_clf.score(data, target)\n",
    "print(f\"Accuracy of a model predicting only low revenue: {score:.3f}\")\n",
    "\n"
   ]
  },
  {
   "cell_type": "markdown",
   "id": "0212804c",
   "metadata": {},
   "source": [
    "# Question 10\n",
    "On average, how much better/worse/similar is the logistic regression  to a dummy\n",
    "classifier that would predict the most frequent class?\n",
    "\n",
    "- a) Worse than a dummy classifier by ~4%\n",
    "- b) Similar to a dummy classifier\n",
    "- c) Better than a dummy classifier by ~4%\n",
    "\n",
    "_Select a single answer_\n",
    "```\n",
    "\n",
    "+++"
   ]
  },
  {
   "cell_type": "code",
   "execution_count": 62,
   "id": "bae4b27f",
   "metadata": {
    "ExecuteTime": {
     "end_time": "2021-06-03T09:16:23.225903Z",
     "start_time": "2021-06-03T09:16:23.131974Z"
    }
   },
   "outputs": [
    {
     "data": {
      "image/png": "[encoded data removed]",
      "text/plain": [
       "<Figure size 432x288 with 1 Axes>"
      ]
     },
     "metadata": {
      "needs_background": "light"
     },
     "output_type": "display_data"
    }
   ],
   "source": [
    "weights = pd.DataFrame(\n",
    "    np.array([np.abs(est[-1].coef_) for est in cv_result[\"estimator\"]]).reshape(10,-1), columns=data.columns)\n",
    "\n",
    "import matplotlib.pyplot as plt\n",
    "\n",
    "color = {\"whiskers\": \"black\", \"medians\": \"black\", \"caps\": \"black\"}\n",
    "weights.plot.box(color=color, vert=False)\n",
    "_ = plt.title(\"Value of linear regression coefficients\")"
   ]
  },
  {
   "cell_type": "markdown",
   "id": "365f3d16",
   "metadata": {},
   "source": [
    "# Question 11\n",
    "What is the most important feature seen by the logistic regression?\n",
    "\n",
    "- a) `\"age\"`\n",
    "- b) `\"capital-gain\"`\n",
    "- c) `\"capital-loss\"`\n",
    "- d) `\"hours-per-week\"`\n",
    "\n",
    "_Select a single answer_\n",
    "```"
   ]
  },
  {
   "cell_type": "markdown",
   "id": "5e2eb4da",
   "metadata": {},
   "source": [
    "+++\n",
    "\n",
    "Now, we will work with **both numerical and categorical features**. You can\n",
    "load Adult Census with the following snippet:"
   ]
  },
  {
   "cell_type": "code",
   "execution_count": 63,
   "id": "397859b8",
   "metadata": {
    "ExecuteTime": {
     "end_time": "2021-06-03T09:16:53.333776Z",
     "start_time": "2021-06-03T09:16:53.265077Z"
    }
   },
   "outputs": [],
   "source": [
    "adult_census = pd.read_csv(\"../datasets/adult-census.csv\")\n",
    "target = adult_census[\"class\"]\n",
    "data = adult_census.drop(columns=[\"class\", \"education-num\"])"
   ]
  },
  {
   "cell_type": "code",
   "execution_count": 64,
   "id": "57c598b5",
   "metadata": {
    "ExecuteTime": {
     "end_time": "2021-06-03T09:17:02.443232Z",
     "start_time": "2021-06-03T09:17:02.424611Z"
    }
   },
   "outputs": [
    {
     "name": "stdout",
     "output_type": "stream",
     "text": [
      "<class 'pandas.core.frame.DataFrame'>\n",
      "RangeIndex: 48842 entries, 0 to 48841\n",
      "Data columns (total 12 columns):\n",
      " #   Column          Non-Null Count  Dtype \n",
      "---  ------          --------------  ----- \n",
      " 0   age             48842 non-null  int64 \n",
      " 1   workclass       48842 non-null  object\n",
      " 2   education       48842 non-null  object\n",
      " 3   marital-status  48842 non-null  object\n",
      " 4   occupation      48842 non-null  object\n",
      " 5   relationship    48842 non-null  object\n",
      " 6   race            48842 non-null  object\n",
      " 7   sex             48842 non-null  object\n",
      " 8   capital-gain    48842 non-null  int64 \n",
      " 9   capital-loss    48842 non-null  int64 \n",
      " 10  hours-per-week  48842 non-null  int64 \n",
      " 11  native-country  48842 non-null  object\n",
      "dtypes: int64(4), object(8)\n",
      "memory usage: 4.5+ MB\n"
     ]
    }
   ],
   "source": [
    "data.info()"
   ]
  },
  {
   "cell_type": "markdown",
   "id": "f22b16a1",
   "metadata": {},
   "source": [
    "# Question 12\n",
    "Are there missing values in this dataset?\n",
    "\n",
    "- a) Yes\n",
    "- b) No\n",
    "\n",
    "_Select a single answer_\n",
    "\n",
    "Hint: you can use `df.info()` to get information regarding each column.\n",
    "```"
   ]
  },
  {
   "cell_type": "markdown",
   "id": "bc7c42bb",
   "metadata": {},
   "source": [
    "+++\n",
    "\n",
    "Create a predictive model where the categorical data should be one-hot encoded,\n",
    "the numerical data should be scaled, and the predictor used should be a\n",
    "logistic regression classifier."
   ]
  },
  {
   "cell_type": "code",
   "execution_count": 65,
   "id": "366db4df",
   "metadata": {
    "ExecuteTime": {
     "end_time": "2021-06-03T09:20:51.992004Z",
     "start_time": "2021-06-03T09:20:47.274413Z"
    }
   },
   "outputs": [
    {
     "name": "stderr",
     "output_type": "stream",
     "text": [
      "/home/explore/miniconda3/envs/scikit-learn-course/lib/python3.9/site-packages/sklearn/linear_model/_logistic.py:763: ConvergenceWarning: lbfgs failed to converge (status=1):\n",
      "STOP: TOTAL NO. of ITERATIONS REACHED LIMIT.\n",
      "\n",
      "Increase the number of iterations (max_iter) or scale the data as shown in:\n",
      "    https://scikit-learn.org/stable/modules/preprocessing.html\n",
      "Please also refer to the documentation for alternative solver options:\n",
      "    https://scikit-learn.org/stable/modules/linear_model.html#logistic-regression\n",
      "  n_iter_i = _check_optimize_result(\n",
      "/home/explore/miniconda3/envs/scikit-learn-course/lib/python3.9/site-packages/sklearn/linear_model/_logistic.py:763: ConvergenceWarning: lbfgs failed to converge (status=1):\n",
      "STOP: TOTAL NO. of ITERATIONS REACHED LIMIT.\n",
      "\n",
      "Increase the number of iterations (max_iter) or scale the data as shown in:\n",
      "    https://scikit-learn.org/stable/modules/preprocessing.html\n",
      "Please also refer to the documentation for alternative solver options:\n",
      "    https://scikit-learn.org/stable/modules/linear_model.html#logistic-regression\n",
      "  n_iter_i = _check_optimize_result(\n",
      "/home/explore/miniconda3/envs/scikit-learn-course/lib/python3.9/site-packages/sklearn/linear_model/_logistic.py:763: ConvergenceWarning: lbfgs failed to converge (status=1):\n",
      "STOP: TOTAL NO. of ITERATIONS REACHED LIMIT.\n",
      "\n",
      "Increase the number of iterations (max_iter) or scale the data as shown in:\n",
      "    https://scikit-learn.org/stable/modules/preprocessing.html\n",
      "Please also refer to the documentation for alternative solver options:\n",
      "    https://scikit-learn.org/stable/modules/linear_model.html#logistic-regression\n",
      "  n_iter_i = _check_optimize_result(\n",
      "/home/explore/miniconda3/envs/scikit-learn-course/lib/python3.9/site-packages/sklearn/linear_model/_logistic.py:763: ConvergenceWarning: lbfgs failed to converge (status=1):\n",
      "STOP: TOTAL NO. of ITERATIONS REACHED LIMIT.\n",
      "\n",
      "Increase the number of iterations (max_iter) or scale the data as shown in:\n",
      "    https://scikit-learn.org/stable/modules/preprocessing.html\n",
      "Please also refer to the documentation for alternative solver options:\n",
      "    https://scikit-learn.org/stable/modules/linear_model.html#logistic-regression\n",
      "  n_iter_i = _check_optimize_result(\n",
      "/home/explore/miniconda3/envs/scikit-learn-course/lib/python3.9/site-packages/sklearn/linear_model/_logistic.py:763: ConvergenceWarning: lbfgs failed to converge (status=1):\n",
      "STOP: TOTAL NO. of ITERATIONS REACHED LIMIT.\n",
      "\n",
      "Increase the number of iterations (max_iter) or scale the data as shown in:\n",
      "    https://scikit-learn.org/stable/modules/preprocessing.html\n",
      "Please also refer to the documentation for alternative solver options:\n",
      "    https://scikit-learn.org/stable/modules/linear_model.html#logistic-regression\n",
      "  n_iter_i = _check_optimize_result(\n",
      "/home/explore/miniconda3/envs/scikit-learn-course/lib/python3.9/site-packages/sklearn/linear_model/_logistic.py:763: ConvergenceWarning: lbfgs failed to converge (status=1):\n",
      "STOP: TOTAL NO. of ITERATIONS REACHED LIMIT.\n",
      "\n",
      "Increase the number of iterations (max_iter) or scale the data as shown in:\n",
      "    https://scikit-learn.org/stable/modules/preprocessing.html\n",
      "Please also refer to the documentation for alternative solver options:\n",
      "    https://scikit-learn.org/stable/modules/linear_model.html#logistic-regression\n",
      "  n_iter_i = _check_optimize_result(\n",
      "/home/explore/miniconda3/envs/scikit-learn-course/lib/python3.9/site-packages/sklearn/linear_model/_logistic.py:763: ConvergenceWarning: lbfgs failed to converge (status=1):\n",
      "STOP: TOTAL NO. of ITERATIONS REACHED LIMIT.\n",
      "\n",
      "Increase the number of iterations (max_iter) or scale the data as shown in:\n",
      "    https://scikit-learn.org/stable/modules/preprocessing.html\n",
      "Please also refer to the documentation for alternative solver options:\n",
      "    https://scikit-learn.org/stable/modules/linear_model.html#logistic-regression\n",
      "  n_iter_i = _check_optimize_result(\n",
      "/home/explore/miniconda3/envs/scikit-learn-course/lib/python3.9/site-packages/sklearn/linear_model/_logistic.py:763: ConvergenceWarning: lbfgs failed to converge (status=1):\n",
      "STOP: TOTAL NO. of ITERATIONS REACHED LIMIT.\n",
      "\n",
      "Increase the number of iterations (max_iter) or scale the data as shown in:\n",
      "    https://scikit-learn.org/stable/modules/preprocessing.html\n",
      "Please also refer to the documentation for alternative solver options:\n",
      "    https://scikit-learn.org/stable/modules/linear_model.html#logistic-regression\n",
      "  n_iter_i = _check_optimize_result(\n",
      "/home/explore/miniconda3/envs/scikit-learn-course/lib/python3.9/site-packages/sklearn/linear_model/_logistic.py:763: ConvergenceWarning: lbfgs failed to converge (status=1):\n",
      "STOP: TOTAL NO. of ITERATIONS REACHED LIMIT.\n",
      "\n",
      "Increase the number of iterations (max_iter) or scale the data as shown in:\n",
      "    https://scikit-learn.org/stable/modules/preprocessing.html\n",
      "Please also refer to the documentation for alternative solver options:\n",
      "    https://scikit-learn.org/stable/modules/linear_model.html#logistic-regression\n",
      "  n_iter_i = _check_optimize_result(\n"
     ]
    },
    {
     "name": "stdout",
     "output_type": "stream",
     "text": [
      "Score is 0.85 +/- 0.00\n"
     ]
    },
    {
     "name": "stderr",
     "output_type": "stream",
     "text": [
      "/home/explore/miniconda3/envs/scikit-learn-course/lib/python3.9/site-packages/sklearn/linear_model/_logistic.py:763: ConvergenceWarning: lbfgs failed to converge (status=1):\n",
      "STOP: TOTAL NO. of ITERATIONS REACHED LIMIT.\n",
      "\n",
      "Increase the number of iterations (max_iter) or scale the data as shown in:\n",
      "    https://scikit-learn.org/stable/modules/preprocessing.html\n",
      "Please also refer to the documentation for alternative solver options:\n",
      "    https://scikit-learn.org/stable/modules/linear_model.html#logistic-regression\n",
      "  n_iter_i = _check_optimize_result(\n"
     ]
    }
   ],
   "source": [
    "from sklearn.pipeline import make_pipeline\n",
    "from sklearn.preprocessing import StandardScaler\n",
    "from sklearn.linear_model import LogisticRegression\n",
    "from sklearn.model_selection import cross_validate\n",
    "from sklearn.compose import ColumnTransformer\n",
    "from sklearn.preprocessing import OneHotEncoder\n",
    "\n",
    "\n",
    "from sklearn.compose import make_column_selector as selector\n",
    "\n",
    "categorical_columns_selector = selector(dtype_include=object)\n",
    "categorical_columns = categorical_columns_selector(data)\n",
    "numerical_columns_selector = selector(dtype_exclude=object)\n",
    "numerical_columns = numerical_columns_selector(data)\n",
    "\n",
    "preprocessor = ColumnTransformer(transformers=[\n",
    "    (\"num-preprocessor\", StandardScaler(), numerical_columns),\n",
    "    (\"cat-preprocessor\", OneHotEncoder(handle_unknown='ignore'), categorical_columns)\n",
    "])\n",
    "\n",
    "model = make_pipeline(preprocessor, LogisticRegression())\n",
    "cv_result = cross_validate(model, data, target, cv=10, return_estimator=True)\n",
    "cv_result\n",
    "\n",
    "print(f'Score is {cv_result[\"test_score\"].mean():0.2f} +/- {cv_result[\"test_score\"].std():0.2f}')"
   ]
  },
  {
   "cell_type": "markdown",
   "id": "b532b365",
   "metadata": {},
   "source": [
    "# Question 13\n",
    "On average, what is the improvement of using the categorical features?\n",
    "\n",
    "- a) It gives similar results\n",
    "- b) It improves the statistical performance by 2.5%\n",
    "- c) it improves the statistical performance by 5%\n",
    "- d) it improves the statistical performance by 7.5%\n",
    "- e) it improves the statistical performance by 10%\n",
    "\n",
    "_Select a single answer_\n",
    "```"
   ]
  },
  {
   "cell_type": "markdown",
   "id": "1f88e40c",
   "metadata": {},
   "source": [
    "+++\n",
    "\n",
    "For the following questions, you can use the following snippet to get the\n",
    "feature names after the preprocessing performed."
   ]
  },
  {
   "cell_type": "code",
   "execution_count": 67,
   "id": "8f5feec2",
   "metadata": {
    "ExecuteTime": {
     "end_time": "2021-06-03T09:21:46.180654Z",
     "start_time": "2021-06-03T09:21:46.175915Z"
    }
   },
   "outputs": [
    {
     "data": {
      "text/plain": [
       "ColumnTransformer(transformers=[('num-preprocessor', StandardScaler(),\n",
       "                                 ['age', 'capital-gain', 'capital-loss',\n",
       "                                  'hours-per-week']),\n",
       "                                ('cat-preprocessor',\n",
       "                                 OneHotEncoder(handle_unknown='ignore'),\n",
       "                                 ['workclass', 'education', 'marital-status',\n",
       "                                  'occupation', 'relationship', 'race', 'sex',\n",
       "                                  'native-country'])])"
      ]
     },
     "execution_count": 67,
     "metadata": {},
     "output_type": "execute_result"
    }
   ],
   "source": [
    "preprocessor"
   ]
  },
  {
   "cell_type": "code",
   "execution_count": 68,
   "id": "2260b399",
   "metadata": {
    "ExecuteTime": {
     "end_time": "2021-06-03T09:21:59.530758Z",
     "start_time": "2021-06-03T09:21:59.424958Z"
    }
   },
   "outputs": [],
   "source": [
    "preprocessor.fit(data)\n",
    "feature_names = (preprocessor.named_transformers_[\"cat-preprocessor\"]\n",
    "                             .get_feature_names(categorical_columns)).tolist()\n",
    "feature_names += numerical_columns\n"
   ]
  },
  {
   "cell_type": "markdown",
   "id": "f23266cf",
   "metadata": {},
   "source": [
    "There is as many feature names as coefficients in the last step of your\n",
    "predictive pipeline."
   ]
  },
  {
   "cell_type": "code",
   "execution_count": 138,
   "id": "28575090",
   "metadata": {
    "ExecuteTime": {
     "end_time": "2021-06-03T09:55:49.933972Z",
     "start_time": "2021-06-03T09:55:49.926763Z"
    }
   },
   "outputs": [
    {
     "name": "stdout",
     "output_type": "stream",
     "text": [
      "1\n",
      "[23  1]\n",
      "['education_ Prof-school', 'workclass_ Federal-gov']\n",
      "1\n",
      "[23  1]\n",
      "['education_ Prof-school', 'workclass_ Federal-gov']\n",
      "1\n",
      "[23  1]\n",
      "['education_ Prof-school', 'workclass_ Federal-gov']\n",
      "1\n",
      "[27  1]\n",
      "['marital-status_ Married-civ-spouse', 'workclass_ Federal-gov']\n",
      "1\n",
      "[23  1]\n",
      "['education_ Prof-school', 'workclass_ Federal-gov']\n",
      "1\n",
      "[23  1]\n",
      "['education_ Prof-school', 'workclass_ Federal-gov']\n",
      "1\n",
      "[23  1]\n",
      "['education_ Prof-school', 'workclass_ Federal-gov']\n",
      "1\n",
      "[23  1]\n",
      "['education_ Prof-school', 'workclass_ Federal-gov']\n",
      "1\n",
      "[23  1]\n",
      "['education_ Prof-school', 'workclass_ Federal-gov']\n",
      "1\n",
      "[23  1]\n",
      "['education_ Prof-school', 'workclass_ Federal-gov']\n"
     ]
    },
    {
     "data": {
      "text/plain": [
       "'education_ Prof-school'"
      ]
     },
     "execution_count": 138,
     "metadata": {},
     "output_type": "execute_result"
    }
   ],
   "source": [
    "for cv in cv_result['estimator']:\n",
    "    print(np.argmax(cv[-1].coef_[0]))\n",
    "    print(np.argsort(cv[-1].coef_[0])[-2:])\n",
    "    print([feature_names[i] for i in np.argsort(cv[-1].coef_[0])[-2:]])\n",
    "feature_names[23]"
   ]
  },
  {
   "cell_type": "markdown",
   "id": "f2c7efdf",
   "metadata": {},
   "source": [
    "# Question 14\n",
    "What are the two most important features used by the logistic regressor?\n",
    "\n",
    "- a) `\"hours-per-week\"` and `\"native-country_Columbia\"`\n",
    "- b) `\"workclass_?\"` and `\"naitive_country_?\"`\n",
    "- c) `\"capital-gain\"` and `\"education_Doctorate\"`\n",
    "\n",
    "_Select a single answer_\n",
    "```\n",
    "\n",
    "+++"
   ]
  },
  {
   "cell_type": "markdown",
   "id": "f7e73100",
   "metadata": {},
   "source": [
    "# Question 15\n",
    "What is the effect of decreasing the `C` parameter on the coefficients?\n",
    "\n",
    "- a) shrinking the magnitude of the weights towards zeros\n",
    "- b) increasing the magnitude of the weights\n",
    "- c) reducing the weights' variance\n",
    "- d) increasing the weights' variance\n",
    "- e) it has no influence on the weights' variance\n",
    "\n",
    "_Select several answers_\n",
    "```"
   ]
  },
  {
   "cell_type": "code",
   "execution_count": null,
   "id": "5101ab8c",
   "metadata": {},
   "outputs": [],
   "source": []
  }
 ],
 "metadata": {
  "kernelspec": {
   "display_name": "Python 3",
   "language": "python",
   "name": "python3"
  },
  "language_info": {
   "codemirror_mode": {
    "name": "ipython",
    "version": 3
   },
   "file_extension": ".py",
   "mimetype": "text/x-python",
   "name": "python",
   "nbconvert_exporter": "python",
   "pygments_lexer": "ipython3",
   "version": "3.9.4"
  },
  "toc": {
   "base_numbering": 1,
   "nav_menu": {},
   "number_sections": true,
   "sideBar": true,
   "skip_h1_title": false,
   "title_cell": "Table of Contents",
   "title_sidebar": "Contents",
   "toc_cell": false,
   "toc_position": {},
   "toc_section_display": true,
   "toc_window_display": true
  }
 },
 "nbformat": 4,
 "nbformat_minor": 5
}

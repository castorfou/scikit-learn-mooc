{
 "cells": [
  {
   "cell_type": "markdown",
   "id": "8025a632",
   "metadata": {},
   "source": [
    "# 🏁 Wrap-up quiz\n",
    "\n",
    "**This quiz requires some programming to be answered.**\n",
    "\n",
    "Open the dataset `blood_transfusion.csv`."
   ]
  },
  {
   "cell_type": "code",
   "execution_count": 1,
   "id": "3d23433d",
   "metadata": {
    "ExecuteTime": {
     "end_time": "2021-06-21T12:24:54.203928Z",
     "start_time": "2021-06-21T12:24:54.006270Z"
    }
   },
   "outputs": [],
   "source": [
    "import pandas as pd\n",
    "\n",
    "blood_transfusion = pd.read_csv(\"../datasets/blood_transfusion.csv\")\n",
    "data = blood_transfusion.drop(columns=\"Class\")\n",
    "target = blood_transfusion[\"Class\"]"
   ]
  },
  {
   "cell_type": "markdown",
   "id": "ce08f240",
   "metadata": {},
   "source": [
    "In this dataset, the column `\"Class\"` is the target vector containing the\n",
    "labels that our model should predict.\n",
    "\n",
    "For all the questions below, make a cross-validation evaluation using a\n",
    "10-fold cross-validation strategy.\n",
    "\n",
    "Evaluate the performance of a `sklearn.dummy.DummyClassifier` that always\n",
    "predict the most frequent class seen during the training. Be aware that you can\n",
    "pass a list of score to compute in `sklearn.model_selection.cross_validate` by\n",
    "setting the parameter `scoring`."
   ]
  },
  {
   "cell_type": "code",
   "execution_count": 22,
   "id": "f3adc2dd",
   "metadata": {
    "ExecuteTime": {
     "end_time": "2021-06-21T13:45:58.687277Z",
     "start_time": "2021-06-21T13:45:58.668357Z"
    }
   },
   "outputs": [
    {
     "data": {
      "text/plain": [
       "{'fit_time': array([0.00111198, 0.00078297, 0.00116968, 0.0008533 , 0.00103641,\n",
       "        0.00123858, 0.00124288, 0.00133777, 0.00119328, 0.00133228]),\n",
       " 'score_time': array([0.001477  , 0.00104499, 0.00138831, 0.00101686, 0.00139427,\n",
       "        0.00132012, 0.00161934, 0.00140238, 0.00148654, 0.00151396]),\n",
       " 'test_accuracy': array([0.76      , 0.76      , 0.76      , 0.76      , 0.76      ,\n",
       "        0.76      , 0.76      , 0.76      , 0.77027027, 0.77027027]),\n",
       " 'test_balanced_accuracy': array([0.5, 0.5, 0.5, 0.5, 0.5, 0.5, 0.5, 0.5, 0.5, 0.5])}"
      ]
     },
     "execution_count": 22,
     "metadata": {},
     "output_type": "execute_result"
    }
   ],
   "source": [
    "from sklearn.dummy import DummyClassifier\n",
    "from sklearn.model_selection import cross_validate\n",
    "\n",
    "dummy = DummyClassifier(strategy=\"most_frequent\")\n",
    "cv = 10\n",
    "\n",
    "result_dummy = cross_validate(dummy, data, target, cv=cv, n_jobs=-1, scoring=['accuracy', 'balanced_accuracy'])\n",
    "# test_score_dummy = pd.Series(result_dummy[\"test_score\"], name=\"Dummy score\")\n",
    "result_dummy"
   ]
  },
  {
   "cell_type": "code",
   "execution_count": 20,
   "id": "1ede8b46",
   "metadata": {
    "ExecuteTime": {
     "end_time": "2021-06-21T13:44:12.464524Z",
     "start_time": "2021-06-21T13:44:12.457114Z"
    }
   },
   "outputs": [
    {
     "name": "stdout",
     "output_type": "stream",
     "text": [
      "Accuracy 76.21% +/- 0.41\n"
     ]
    }
   ],
   "source": [
    "print(f'Accuracy {100*result_dummy[\"test_accuracy\"].mean():0.02f}% +/- {100*result_dummy[\"test_accuracy\"].std():0.02f}')"
   ]
  },
  {
   "cell_type": "markdown",
   "id": "e8b448b7",
   "metadata": {},
   "source": [
    "# Question 1\n",
    "What the accuracy of this dummy classifier?\n",
    "\n",
    "- a) ~0.5\n",
    "- b) ~0.62\n",
    "- c) ~0.75\n",
    "\n",
    "_Select a single answer_"
   ]
  },
  {
   "cell_type": "code",
   "execution_count": 23,
   "id": "01e2e0b0",
   "metadata": {
    "ExecuteTime": {
     "end_time": "2021-06-21T13:46:27.399058Z",
     "start_time": "2021-06-21T13:46:27.396398Z"
    }
   },
   "outputs": [
    {
     "name": "stdout",
     "output_type": "stream",
     "text": [
      "Balanced Accuracy 50.00% +/- 0.00\n"
     ]
    }
   ],
   "source": [
    "print(f'Balanced Accuracy {100*result_dummy[\"test_balanced_accuracy\"].mean():0.02f}% +/- {100*result_dummy[\"test_balanced_accuracy\"].std():0.02f}')"
   ]
  },
  {
   "cell_type": "markdown",
   "id": "3daabb13",
   "metadata": {},
   "source": [
    "# Question 2\n",
    "What the balanced accuracy of this dummy classifier?\n",
    "\n",
    "- a) ~0.5\n",
    "- b) ~0.62\n",
    "- c) ~0.75\n",
    "\n",
    "_Select a single answer_"
   ]
  },
  {
   "cell_type": "markdown",
   "id": "b7d19751",
   "metadata": {},
   "source": [
    "Replace the `DummyClassifier` by a `sklearn.tree.DecisionTreeClassifier` and\n",
    "check the statistical performance to answer the question below."
   ]
  },
  {
   "cell_type": "code",
   "execution_count": 24,
   "id": "ab2c9c0e",
   "metadata": {
    "ExecuteTime": {
     "end_time": "2021-06-21T13:48:35.177363Z",
     "start_time": "2021-06-21T13:48:35.113510Z"
    }
   },
   "outputs": [
    {
     "name": "stdout",
     "output_type": "stream",
     "text": [
      "Accuracy 62.86% +/- 14.98\n"
     ]
    }
   ],
   "source": [
    "from sklearn.tree import DecisionTreeClassifier\n",
    "from sklearn.model_selection import cross_validate\n",
    "\n",
    "tree = DecisionTreeClassifier()\n",
    "cv = 10\n",
    "\n",
    "result_tree = cross_validate(tree, data, target, cv=cv, n_jobs=-1, scoring=['accuracy', 'balanced_accuracy'])\n",
    "# test_score_dummy = pd.Series(result_dummy[\"test_score\"], name=\"Dummy score\")\n",
    "result_tree\n",
    "print(f'Accuracy {100*result_tree[\"test_accuracy\"].mean():0.02f}% +/- {100*result_tree[\"test_accuracy\"].std():0.02f}')"
   ]
  },
  {
   "cell_type": "markdown",
   "id": "cb9d0acc",
   "metadata": {},
   "source": [
    "# Question 3\n",
    "Is a single decision classifier better than a dummy classifier (at least an\n",
    "increase of 4%) in terms of balanced accuracy?\n",
    "\n",
    "- a) Yes\n",
    "- b) No\n",
    "\n",
    "_Select a single answer_"
   ]
  },
  {
   "cell_type": "markdown",
   "id": "e31d7273",
   "metadata": {},
   "source": [
    "Evaluate the performance of a `sklearn.ensemble.RandomForestClassifier` using\n",
    "300 trees."
   ]
  },
  {
   "cell_type": "code",
   "execution_count": 26,
   "id": "75dfed65",
   "metadata": {
    "ExecuteTime": {
     "end_time": "2021-06-21T13:50:46.169059Z",
     "start_time": "2021-06-21T13:50:45.555065Z"
    }
   },
   "outputs": [
    {
     "name": "stdout",
     "output_type": "stream",
     "text": [
      "Accuracy 66.46% +/- 13.45\n"
     ]
    }
   ],
   "source": [
    "from sklearn.ensemble import RandomForestClassifier\n",
    "from sklearn.model_selection import cross_validate\n",
    "\n",
    "rf = RandomForestClassifier(n_estimators=300)\n",
    "cv = 10\n",
    "\n",
    "result_rf = cross_validate(rf, data, target, cv=cv, n_jobs=-1, scoring=['accuracy', 'balanced_accuracy'])\n",
    "result_rf\n",
    "print(f'Accuracy {100*result_rf[\"test_accuracy\"].mean():0.02f}% +/- {100*result_rf[\"test_accuracy\"].std():0.02f}')"
   ]
  },
  {
   "cell_type": "markdown",
   "id": "61d9bada",
   "metadata": {},
   "source": [
    "# Question 4\n",
    "Is random forest better than a dummy classifier (at least an increase of 4%)\n",
    "in terms of balanced accuracy?\n",
    "\n",
    "- a) Yes\n",
    "- b) No\n",
    "\n",
    "_Select a single answer_"
   ]
  },
  {
   "cell_type": "markdown",
   "id": "8faaab2b",
   "metadata": {},
   "source": [
    "Compare a `sklearn.ensemble.GradientBoostingClassifier` and a\n",
    "`sklearn.ensemble.RandomForestClassifier` with both 300 trees. Evaluate both\n",
    "models with a 10-fold cross-validation and repeat the experiment 10 times."
   ]
  },
  {
   "cell_type": "code",
   "execution_count": 28,
   "id": "dd8d60a3",
   "metadata": {
    "ExecuteTime": {
     "end_time": "2021-06-21T13:56:33.773157Z",
     "start_time": "2021-06-21T13:56:24.413910Z"
    }
   },
   "outputs": [
    {
     "name": "stdout",
     "output_type": "stream",
     "text": [
      "Moyenne RF: 66.86054054054054, moyenne GB: 69.11981981981982\n"
     ]
    }
   ],
   "source": [
    "from sklearn.ensemble import RandomForestClassifier\n",
    "from sklearn.ensemble import GradientBoostingClassifier\n",
    "from sklearn.model_selection import cross_validate\n",
    "from statistics import mean\n",
    "\n",
    "rf = RandomForestClassifier(n_estimators=300)\n",
    "gb = GradientBoostingClassifier(n_estimators=300)\n",
    "cv = 10\n",
    "\n",
    "rf_results=[]\n",
    "gb_results=[]\n",
    "\n",
    "for i in range(10):\n",
    "    result_rf = cross_validate(rf, data, target, cv=cv, n_jobs=-1, scoring=['accuracy', 'balanced_accuracy'])\n",
    "    result_gb = cross_validate(gb, data, target, cv=cv, n_jobs=-1, scoring=['accuracy', 'balanced_accuracy'])\n",
    "    rf_results.append(100*result_rf[\"test_accuracy\"].mean())\n",
    "    gb_results.append(100*result_gb[\"test_accuracy\"].mean())\n",
    "\n",
    "print(f'Moyenne RF: {mean(rf_results)}, moyenne GB: {mean(gb_results)}')"
   ]
  },
  {
   "cell_type": "markdown",
   "id": "de59d857",
   "metadata": {},
   "source": [
    "# Question 5\n",
    "On average, is the gradient boosting better than the random forest?\n",
    "\n",
    "- a) Yes\n",
    "- b) No\n",
    "- c) Equivalent\n",
    "\n",
    "_Select a single answer_"
   ]
  },
  {
   "cell_type": "markdown",
   "id": "91fbba1b",
   "metadata": {},
   "source": [
    "Evaluate the performance of a\n",
    "`sklearn.ensemble.HistGradientBoostingClassifier`. Enable early-stopping and\n",
    "add as many trees as needed.\n",
    "\n",
    "**Note**: Be aware that you need a specific import when importing the\n",
    "`HistGradientBoostingClassifier`:\n",
    "\n",
    "```py\n",
    "# explicitly require this experimental feature\n",
    "from sklearn.experimental import enable_hist_gradient_boosting\n",
    "# now you can import normally from ensemble\n",
    "from sklearn.ensemble import HistGradientBoostingClassifier\n",
    "```"
   ]
  },
  {
   "cell_type": "code",
   "execution_count": 30,
   "id": "5217a2f7",
   "metadata": {
    "ExecuteTime": {
     "end_time": "2021-06-21T14:00:46.868500Z",
     "start_time": "2021-06-21T14:00:45.957346Z"
    }
   },
   "outputs": [
    {
     "name": "stdout",
     "output_type": "stream",
     "text": [
      "Moyenne HGB: 72.87351351351352\n"
     ]
    }
   ],
   "source": [
    "from sklearn.experimental import enable_hist_gradient_boosting\n",
    "# now you can import normally from ensemble\n",
    "from sklearn.ensemble import HistGradientBoostingClassifier\n",
    "from statistics import mean\n",
    "from sklearn.model_selection import cross_validate\n",
    "\n",
    "hgb = HistGradientBoostingClassifier(early_stopping=True, max_iter=1000)\n",
    "hgb_results=[]\n",
    "\n",
    "for i in range(10):\n",
    "    result_hgb = cross_validate(hgb, data, target, cv=cv, n_jobs=-1, scoring=['accuracy', 'balanced_accuracy'])\n",
    "    hgb_results.append(100*result_hgb[\"test_accuracy\"].mean())\n",
    "\n",
    "print(f'Moyenne HGB: {mean(hgb_results)}')"
   ]
  },
  {
   "cell_type": "markdown",
   "id": "6e01707e",
   "metadata": {},
   "source": [
    "# Question 6\n",
    "Is histogram gradient boosting a better classifier?\n",
    "\n",
    "- a) Histogram gradient boosting is the best estimator\n",
    "- b) Histogram gradient boosting is better than random forest by worse than\n",
    "  the exact gradient boosting\n",
    "- c) Histogram gradient boosting is better than the exact gradient boosting but\n",
    "  worse than the random forest\n",
    "- d) Histogram gradient boosting is the worst estimator\n",
    "\n",
    "_Select a single answer_"
   ]
  },
  {
   "cell_type": "code",
   "execution_count": 43,
   "id": "07a79c4b",
   "metadata": {
    "ExecuteTime": {
     "end_time": "2021-06-21T14:06:39.514160Z",
     "start_time": "2021-06-21T14:06:39.343816Z"
    }
   },
   "outputs": [
    {
     "name": "stdout",
     "output_type": "stream",
     "text": [
      "28.5\n"
     ]
    }
   ],
   "source": [
    "result_hgb = cross_validate(hgb, data, target, cv=cv, n_jobs=-1, scoring=['accuracy', 'balanced_accuracy'], return_estimator=True)\n",
    "n_iter=[]\n",
    "for est in result_hgb['estimator']:\n",
    "    n_iter.append(est.n_iter_)\n",
    "    \n",
    "print(f'{mean(n_iter)}')"
   ]
  },
  {
   "cell_type": "markdown",
   "id": "beae36a6",
   "metadata": {},
   "source": [
    "# Question 7\n",
    "With the early stopping activated, how many trees on average the\n",
    "`HistGradientBoostingClassifier` needed to converge?\n",
    "\n",
    "- a) ~30\n",
    "- b) ~100\n",
    "- c) ~150\n",
    "- d) ~200\n",
    "- e) ~300\n",
    "\n",
    "_Select a single answer_"
   ]
  },
  {
   "cell_type": "markdown",
   "id": "e96a43ec",
   "metadata": {},
   "source": [
    "[Imbalanced-learn](https://imbalanced-learn.org/stable/) is an open-source\n",
    "library relying on scikit-learn and provides methods to deal with\n",
    "classification with imbalanced classes.\n",
    "\n",
    "Here, we will be using the class\n",
    "[`imblearn.ensemble.BalancedBaggingClassifier`](https://imbalanced-learn.org/stable/references/generated/imblearn.ensemble.BalancedBaggingClassifier.html)\n",
    "to alleviate the issue of class imbalance.\n",
    "\n",
    "Use the `BalancedBaggingClassifier` and pass an\n",
    "`HistGradientBoostingClassifier` as a `base_estimator`. Fix the hyperparameter\n",
    "`n_estimators` to 50.\n",
    "\n",
    "**Note**: In case that imbalanced-learn is not available on your laptop, you\n",
    "can install it via PyPI or conda-forge channel. Thus in a notebook, you can\n",
    "install using:\n",
    "\n",
    "```\n",
    "%pip install -U imbalanced-learn\n",
    "```\n",
    "\n",
    "or\n",
    "\n",
    "```\n",
    "!conda install imbalannced-learn -c conda-forge\n",
    "```"
   ]
  },
  {
   "cell_type": "markdown",
   "id": "364c0db6",
   "metadata": {},
   "source": [
    "# Question 8\n",
    "What is a [`BalancedBaggingClassifier`](https://imbalanced-learn.org/stable/ensemble.html#bagging)?\n",
    "\n",
    "- a) Is a classifier that make sure that each tree leaves belong to the same\n",
    "  depth level\n",
    "- b) Is a classifier that explicitly maximizes the balanced accuracy score\n",
    "- c) Equivalent to a `sklearn.ensemble.BaggingClassifier` with a resampling of\n",
    "     each bootstrap sample to contain a many samples from each class.\n",
    "\n",
    "_Select a single answer_"
   ]
  },
  {
   "cell_type": "code",
   "execution_count": 48,
   "id": "250960e3",
   "metadata": {
    "ExecuteTime": {
     "end_time": "2021-06-21T14:19:40.891739Z",
     "start_time": "2021-06-21T14:19:33.972420Z"
    }
   },
   "outputs": [
    {
     "name": "stdout",
     "output_type": "stream",
     "text": [
      "Accuracy 58.54% +/- 6.57\n"
     ]
    }
   ],
   "source": [
    "from imblearn.ensemble import BalancedBaggingClassifier\n",
    "\n",
    "bbc = BalancedBaggingClassifier(base_estimator=HistGradientBoostingClassifier(), sampling_strategy='auto', n_estimators=50)\n",
    "result_bbc = cross_validate(bbc, data, target, cv=cv, n_jobs=-1, scoring=['accuracy', 'balanced_accuracy'], return_estimator=True)\n",
    "\n",
    "\n",
    "print(f'Accuracy {100*result_bbc[\"test_balanced_accuracy\"].mean():0.02f}% +/- {100*result_bbc[\"test_balanced_accuracy\"].std():0.02f}')"
   ]
  },
  {
   "cell_type": "markdown",
   "id": "0b5a83eb",
   "metadata": {},
   "source": [
    "# Question 9\n",
    "Is the balanced accuracy of the `BalancedBaggingClassifier` is\n",
    "_choose an answer_ than an `HistGradientBoostingClassifier` alone?\n",
    "\n",
    "- a) Worse\n",
    "- b) Better\n",
    "- c) Equivalent\n",
    "\n",
    "_Select a single answer_\n",
    "```"
   ]
  },
  {
   "cell_type": "code",
   "execution_count": null,
   "id": "67ad3700",
   "metadata": {},
   "outputs": [],
   "source": []
  }
 ],
 "metadata": {
  "jupytext": {
   "cell_metadata_filter": "-all",
   "main_language": "python",
   "notebook_metadata_filter": "-all",
   "text_representation": {
    "extension": ".md",
    "format_name": "markdown"
   }
  },
  "kernelspec": {
   "display_name": "Python 3",
   "language": "python",
   "name": "python3"
  },
  "language_info": {
   "codemirror_mode": {
    "name": "ipython",
    "version": 3
   },
   "file_extension": ".py",
   "mimetype": "text/x-python",
   "name": "python",
   "nbconvert_exporter": "python",
   "pygments_lexer": "ipython3",
   "version": "3.9.4"
  },
  "toc": {
   "base_numbering": 1,
   "nav_menu": {},
   "number_sections": true,
   "sideBar": true,
   "skip_h1_title": false,
   "title_cell": "Table of Contents",
   "title_sidebar": "Contents",
   "toc_cell": false,
   "toc_position": {
    "height": "calc(100% - 180px)",
    "left": "10px",
    "top": "150px",
    "width": "389.2px"
   },
   "toc_section_display": true,
   "toc_window_display": true
  }
 },
 "nbformat": 4,
 "nbformat_minor": 5
}

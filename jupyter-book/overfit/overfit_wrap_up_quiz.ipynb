{
 "cells": [
  {
   "cell_type": "markdown",
   "id": "17eedc83",
   "metadata": {},
   "source": [
    "# 🏁 Wrap-up quiz\n",
    "\n",
    "**This quiz requires some programming to be answered.**\n",
    "\n",
    "Open the dataset `blood_transfusion.csv` with the following command:"
   ]
  },
  {
   "cell_type": "code",
   "execution_count": 1,
   "id": "5354b0ff",
   "metadata": {
    "ExecuteTime": {
     "end_time": "2021-05-27T10:05:26.450928Z",
     "start_time": "2021-05-27T10:05:26.258966Z"
    }
   },
   "outputs": [],
   "source": [
    "\n",
    "import pandas as pd\n",
    "\n",
    "blood_transfusion = pd.read_csv(\"../datasets/blood_transfusion.csv\")\n",
    "target_name = \"Class\"\n",
    "data = blood_transfusion.drop(columns=target_name)\n",
    "target = blood_transfusion[target_name]\n"
   ]
  },
  {
   "cell_type": "markdown",
   "id": "0199193e",
   "metadata": {},
   "source": [
    "`blood_transfusion` is a pandas dataframe. The column \"Class\" contains the\n",
    "target variable."
   ]
  },
  {
   "cell_type": "markdown",
   "id": "19889096",
   "metadata": {},
   "source": [
    "# Question 1\n",
    "Select the correct answers from the following proposals.\n",
    "\n",
    "- a) The problem to be solved is a regression problem\n",
    "- b) The problem to be solved is a binary classification problem\n",
    "  (exactly 2 possible classes)\n",
    "- c) The problem to be solved is a multiclass classification problem\n",
    "  (more than 2 possible classes)\n",
    "- d) The proportions of the class counts are imbalanced: some classes have more\n",
    "  than twice as many rows than others)\n",
    "\n",
    "_Select several answers_\n",
    "\n",
    "Hint: `target.unique()`, and `target.value_counts()` are methods\n",
    "that are helpful to answer to this question.\n"
   ]
  },
  {
   "cell_type": "code",
   "execution_count": 2,
   "id": "47e6b3d9",
   "metadata": {
    "ExecuteTime": {
     "end_time": "2021-05-27T10:06:47.763953Z",
     "start_time": "2021-05-27T10:06:47.753415Z"
    }
   },
   "outputs": [
    {
     "data": {
      "text/plain": [
       "not donated    570\n",
       "donated        178\n",
       "Name: Class, dtype: int64"
      ]
     },
     "execution_count": 2,
     "metadata": {},
     "output_type": "execute_result"
    }
   ],
   "source": [
    "target.value_counts()"
   ]
  },
  {
   "cell_type": "markdown",
   "id": "7491fd04",
   "metadata": {},
   "source": [
    "# Question 2\n",
    "Using a\n",
    "[`sklearn.dummy.DummyClassifier`](https://scikit-learn.org/stable/modules/generated/sklearn.dummy.DummyClassifier.html)\n",
    "and the strategy `\"most_frequent\"`, what is the average of the accuracy scores\n",
    "obtained by performing a 10-fold cross-validation?\n",
    "\n",
    "- a) ~25%\n",
    "- b) ~50%\n",
    "- c) ~75%\n",
    "\n",
    "_Select a single answer_\n",
    "\n",
    "Hint: You can check the documentation of `sklearn.model_selection.cross_val_score`\n",
    "[here](https://scikit-learn.org/stable/modules/generated/sklearn.model_selection.cross_val_score.html)\n",
    "and `sklearn.model_selection.cross_validate`\n",
    "[here](https://scikit-learn.org/stable/modules/generated/sklearn.model_selection.cross_validate.html).\n"
   ]
  },
  {
   "cell_type": "code",
   "execution_count": 5,
   "id": "973e7778",
   "metadata": {
    "ExecuteTime": {
     "end_time": "2021-05-27T10:13:52.482713Z",
     "start_time": "2021-05-27T10:13:52.457347Z"
    }
   },
   "outputs": [
    {
     "name": "stdout",
     "output_type": "stream",
     "text": [
      "Accuracy of logistic regression: 0.762\n"
     ]
    },
    {
     "data": {
      "text/plain": [
       "array([0.76      , 0.76      , 0.76      , 0.76      , 0.76      ,\n",
       "       0.76      , 0.76      , 0.76      , 0.77027027, 0.77027027])"
      ]
     },
     "execution_count": 5,
     "metadata": {},
     "output_type": "execute_result"
    }
   ],
   "source": [
    "from sklearn.dummy import DummyClassifier\n",
    "\n",
    "dumm = DummyClassifier()\n",
    "dumm.fit(data, target)\n",
    "accuracy = dumm.score(data, target)\n",
    "print(f\"Accuracy of logistic regression: {accuracy:.3f}\")\n",
    "\n",
    "import pandas as pd\n",
    "from sklearn.model_selection import cross_val_score\n",
    "cross_val_score(dumm, data, target, cv=10)"
   ]
  },
  {
   "cell_type": "markdown",
   "id": "bcc9f222",
   "metadata": {},
   "source": [
    "# Question 3\n",
    "Repeat the previous experiment but compute the balanced accuracy instead of\n",
    "the accuracy score. Pass `scoring=\"balanced_accuracy\"` when calling\n",
    "`cross_validate` or `cross_val_score` functions?\n",
    "\n",
    "- a) ~25%\n",
    "- b) ~50%\n",
    "- c) ~75%\n",
    "\n",
    "_Select a single answer_\n"
   ]
  },
  {
   "cell_type": "code",
   "execution_count": 6,
   "id": "760f4d4b",
   "metadata": {
    "ExecuteTime": {
     "end_time": "2021-05-27T10:15:37.711389Z",
     "start_time": "2021-05-27T10:15:37.681477Z"
    }
   },
   "outputs": [
    {
     "data": {
      "text/plain": [
       "array([0.5, 0.5, 0.5, 0.5, 0.5, 0.5, 0.5, 0.5, 0.5, 0.5])"
      ]
     },
     "execution_count": 6,
     "metadata": {},
     "output_type": "execute_result"
    }
   ],
   "source": [
    "from sklearn.dummy import DummyClassifier\n",
    "\n",
    "dumm = DummyClassifier()\n",
    "\n",
    "\n",
    "import pandas as pd\n",
    "from sklearn.model_selection import cross_val_score\n",
    "\n",
    "cross_val_score(dumm, data, target, cv=10, scoring='balanced_accuracy')"
   ]
  },
  {
   "cell_type": "markdown",
   "id": "bef1eaa8",
   "metadata": {},
   "source": [
    "# Question 4\n",
    "\n",
    "We will use a\n",
    "[`sklearn.neighbors.KNeighborsClassifier`](https://scikit-learn.org/stable/modules/generated/sklearn.neighbors.KNeighborsClassifier.html)\n",
    "for the remainder of this quiz.\n",
    "\n",
    "Why is it relevant to add a preprocessing step to scale the data using a\n",
    "`StandardScaler` when working with a `KNearestNeighborsClassifier`?\n",
    "\n",
    "- a) faster to compute the list of neighbors on scaled data\n",
    "- b) k-nearest neighbors is based on computing some distances. Features need\n",
    "  to be normalized to contribute approximately equally to the distance\n",
    "  computation.\n",
    "- c) This is irrelevant. One could use k-nearest neighbors without normalizing\n",
    "  the dataset and get a very similar cross-validation score.\n",
    "\n",
    "_Select a single answer_"
   ]
  },
  {
   "cell_type": "markdown",
   "id": "78f504db",
   "metadata": {},
   "source": [
    "# Question 5\n",
    "\n",
    "Create a scikit-learn pipeline (using\n",
    "[`sklearn.pipeline.make_pipeline`](https://scikit-learn.org/stable/modules/generated/sklearn.pipeline.make_pipeline.html))\n",
    "where a `StandardScaler` will be used to scale the data followed by a\n",
    "`KNeighborsClassifier`. Use the default hyperparameters.\n",
    "\n",
    "Inspect the parameters of the created pipeline. What is the value of K, the\n",
    "number of neighbors considered when predicting with the k-nearest neighbors.\n",
    "\n",
    "- a) 1\n",
    "- b) 3\n",
    "- c) 5\n",
    "- d) 8\n",
    "- e) 10\n",
    "\n",
    "_Select a single answer_\n",
    "\n",
    "Hint: You can use `model.get_params()` to get the parameters of a scikit-learn\n",
    "estimator.\n"
   ]
  },
  {
   "cell_type": "code",
   "execution_count": 8,
   "id": "70107ce2",
   "metadata": {
    "ExecuteTime": {
     "end_time": "2021-05-27T12:05:47.956091Z",
     "start_time": "2021-05-27T12:05:47.952042Z"
    }
   },
   "outputs": [
    {
     "data": {
      "text/plain": [
       "{'memory': None,\n",
       " 'steps': [('standardscaler', StandardScaler()),\n",
       "  ('kneighborsclassifier', KNeighborsClassifier())],\n",
       " 'verbose': False,\n",
       " 'standardscaler': StandardScaler(),\n",
       " 'kneighborsclassifier': KNeighborsClassifier(),\n",
       " 'standardscaler__copy': True,\n",
       " 'standardscaler__with_mean': True,\n",
       " 'standardscaler__with_std': True,\n",
       " 'kneighborsclassifier__algorithm': 'auto',\n",
       " 'kneighborsclassifier__leaf_size': 30,\n",
       " 'kneighborsclassifier__metric': 'minkowski',\n",
       " 'kneighborsclassifier__metric_params': None,\n",
       " 'kneighborsclassifier__n_jobs': None,\n",
       " 'kneighborsclassifier__n_neighbors': 5,\n",
       " 'kneighborsclassifier__p': 2,\n",
       " 'kneighborsclassifier__weights': 'uniform'}"
      ]
     },
     "execution_count": 8,
     "metadata": {},
     "output_type": "execute_result"
    }
   ],
   "source": [
    "from sklearn.preprocessing import StandardScaler\n",
    "from sklearn.neighbors import KNeighborsClassifier\n",
    "from sklearn.pipeline import make_pipeline\n",
    "\n",
    "pipeline = make_pipeline(StandardScaler(), KNeighborsClassifier())\n",
    "pipeline.get_params()"
   ]
  },
  {
   "cell_type": "markdown",
   "id": "7c0cb23b",
   "metadata": {},
   "source": [
    "# Question 6\n",
    "Evaluate the previous model with a 10-fold cross-validation. What can you\n",
    "say about this model? Compare the train and test scores to argument your\n",
    "answer.\n",
    "\n",
    "- a) The model clearly underfits\n",
    "- b) The model generalizes\n",
    "- c) The model clearly overfits\n",
    "\n",
    "_Select a single answer_\n",
    "\n",
    "Hint: compute the average test score and the average train score and compare\n",
    "them. Make sure to pass `return_train_score=True` to the `cross_validate`\n",
    "function to also compute the train score.\n",
    "```"
   ]
  },
  {
   "cell_type": "code",
   "execution_count": 9,
   "id": "dc31c9d0",
   "metadata": {
    "ExecuteTime": {
     "end_time": "2021-05-27T12:07:03.130389Z",
     "start_time": "2021-05-27T12:07:03.050585Z"
    }
   },
   "outputs": [
    {
     "data": {
      "text/plain": [
       "array([0.37333333, 0.4       , 0.56      , 0.70666667, 0.73333333,\n",
       "       0.76      , 0.68      , 0.78666667, 0.74324324, 0.78378378])"
      ]
     },
     "execution_count": 9,
     "metadata": {},
     "output_type": "execute_result"
    }
   ],
   "source": [
    "cross_val_score(pipeline, data, target, cv=10)"
   ]
  },
  {
   "cell_type": "code",
   "execution_count": 11,
   "id": "15e4a759",
   "metadata": {
    "ExecuteTime": {
     "end_time": "2021-05-27T12:09:03.536570Z",
     "start_time": "2021-05-27T12:09:03.310323Z"
    }
   },
   "outputs": [
    {
     "data": {
      "text/html": [
       "<div>\n",
       "<style scoped>\n",
       "    .dataframe tbody tr th:only-of-type {\n",
       "        vertical-align: middle;\n",
       "    }\n",
       "\n",
       "    .dataframe tbody tr th {\n",
       "        vertical-align: top;\n",
       "    }\n",
       "\n",
       "    .dataframe thead th {\n",
       "        text-align: right;\n",
       "    }\n",
       "</style>\n",
       "<table border=\"1\" class=\"dataframe\">\n",
       "  <thead>\n",
       "    <tr style=\"text-align: right;\">\n",
       "      <th></th>\n",
       "      <th>fit_time</th>\n",
       "      <th>score_time</th>\n",
       "      <th>test_score</th>\n",
       "      <th>train_score</th>\n",
       "    </tr>\n",
       "  </thead>\n",
       "  <tbody>\n",
       "    <tr>\n",
       "      <th>0</th>\n",
       "      <td>0.004728</td>\n",
       "      <td>0.003266</td>\n",
       "      <td>0.746667</td>\n",
       "      <td>0.796434</td>\n",
       "    </tr>\n",
       "    <tr>\n",
       "      <th>1</th>\n",
       "      <td>0.004202</td>\n",
       "      <td>0.003125</td>\n",
       "      <td>0.786667</td>\n",
       "      <td>0.815750</td>\n",
       "    </tr>\n",
       "    <tr>\n",
       "      <th>2</th>\n",
       "      <td>0.003123</td>\n",
       "      <td>0.003018</td>\n",
       "      <td>0.746667</td>\n",
       "      <td>0.818722</td>\n",
       "    </tr>\n",
       "    <tr>\n",
       "      <th>3</th>\n",
       "      <td>0.003117</td>\n",
       "      <td>0.003000</td>\n",
       "      <td>0.786667</td>\n",
       "      <td>0.820208</td>\n",
       "    </tr>\n",
       "    <tr>\n",
       "      <th>4</th>\n",
       "      <td>0.003108</td>\n",
       "      <td>0.002949</td>\n",
       "      <td>0.773333</td>\n",
       "      <td>0.824666</td>\n",
       "    </tr>\n",
       "    <tr>\n",
       "      <th>5</th>\n",
       "      <td>0.003029</td>\n",
       "      <td>0.003101</td>\n",
       "      <td>0.680000</td>\n",
       "      <td>0.832095</td>\n",
       "    </tr>\n",
       "    <tr>\n",
       "      <th>6</th>\n",
       "      <td>0.003063</td>\n",
       "      <td>0.002982</td>\n",
       "      <td>0.786667</td>\n",
       "      <td>0.824666</td>\n",
       "    </tr>\n",
       "    <tr>\n",
       "      <th>7</th>\n",
       "      <td>0.003141</td>\n",
       "      <td>0.002985</td>\n",
       "      <td>0.733333</td>\n",
       "      <td>0.826152</td>\n",
       "    </tr>\n",
       "    <tr>\n",
       "      <th>8</th>\n",
       "      <td>0.003116</td>\n",
       "      <td>0.002985</td>\n",
       "      <td>0.733333</td>\n",
       "      <td>0.820208</td>\n",
       "    </tr>\n",
       "    <tr>\n",
       "      <th>9</th>\n",
       "      <td>0.003096</td>\n",
       "      <td>0.003008</td>\n",
       "      <td>0.733333</td>\n",
       "      <td>0.796434</td>\n",
       "    </tr>\n",
       "  </tbody>\n",
       "</table>\n",
       "</div>"
      ],
      "text/plain": [
       "   fit_time  score_time  test_score  train_score\n",
       "0  0.004728    0.003266    0.746667     0.796434\n",
       "1  0.004202    0.003125    0.786667     0.815750\n",
       "2  0.003123    0.003018    0.746667     0.818722\n",
       "3  0.003117    0.003000    0.786667     0.820208\n",
       "4  0.003108    0.002949    0.773333     0.824666\n",
       "5  0.003029    0.003101    0.680000     0.832095\n",
       "6  0.003063    0.002982    0.786667     0.824666\n",
       "7  0.003141    0.002985    0.733333     0.826152\n",
       "8  0.003116    0.002985    0.733333     0.820208\n",
       "9  0.003096    0.003008    0.733333     0.796434"
      ]
     },
     "execution_count": 11,
     "metadata": {},
     "output_type": "execute_result"
    }
   ],
   "source": [
    "import pandas as pd\n",
    "from sklearn.model_selection import cross_validate, ShuffleSplit\n",
    "\n",
    "cv = ShuffleSplit(random_state=0)\n",
    "cv_results = cross_validate(pipeline, data, target, return_train_score=True,\n",
    "                            cv=cv)\n",
    "cv_results = pd.DataFrame(cv_results)\n",
    "cv_results"
   ]
  },
  {
   "cell_type": "markdown",
   "id": "5d9ee708",
   "metadata": {},
   "source": [
    "# Question 7\n",
    "\n",
    "We will now study the effect of the parameter `n_neighbors` on the train and\n",
    "test score using a validation curve. You can use the following parameter range:\n",
    "\n",
    "```py\n",
    "param_range = [1, 2, 5, 10, 20, 50, 100, 200, 500]\n",
    "```\n",
    "\n",
    "Also, use a 5-fold cross-validation and compute the balanced accuracy score\n",
    "instead of the default accuracy score (check the `scoring` parameter). Finally,\n",
    "plot the average train and test scores for the different value of the\n",
    "hyperparameter. We recall that the name of the parameter can be found using\n",
    "`model.get_params()`.\n",
    "\n",
    "Select the true affirmations stated below:\n",
    "\n",
    "- a) The model underfits for a range of `n_neighbors` values between 1 to 10\n",
    "- b) The model underfits for a range of `n_neighbors` values between 10 to 100\n",
    "- c) The model underfits for a range of `n_neighbors` values between 100 to 500\n"
   ]
  },
  {
   "cell_type": "code",
   "execution_count": 15,
   "id": "2f2acd99",
   "metadata": {
    "ExecuteTime": {
     "end_time": "2021-05-27T12:14:22.581403Z",
     "start_time": "2021-05-27T12:14:20.829533Z"
    }
   },
   "outputs": [
    {
     "data": {
      "image/png": "[encoded data removed]",
      "text/plain": [
       "<Figure size 432x288 with 1 Axes>"
      ]
     },
     "metadata": {
      "needs_background": "light"
     },
     "output_type": "display_data"
    }
   ],
   "source": [
    "param_range = [1, 2, 5, 10, 20, 50, 100, 200, 500]\n",
    "\n",
    "from sklearn.model_selection import validation_curve\n",
    "import numpy as np\n",
    "\n",
    "train_scores, test_scores = validation_curve(\n",
    "    pipeline, data, target, param_name=\"kneighborsclassifier__n_neighbors\", param_range=param_range,\n",
    "    cv=5)\n",
    "train_errors, test_errors = -train_scores, -test_scores\n",
    "\n",
    "\n",
    "import matplotlib.pyplot as plt\n",
    "\n",
    "plt.errorbar(param_range, train_errors.mean(axis=1),yerr=train_scores.std(axis=1), label=\"Training error\")\n",
    "plt.errorbar(param_range, test_errors.mean(axis=1),yerr=test_scores.std(axis=1), label=\"Testing error\")\n",
    "plt.legend()\n",
    "\n",
    "plt.xscale(\"log\")\n",
    "\n",
    "plt.xlabel(\"n_neighbors\")\n",
    "plt.ylabel(\"Mean absolute error\")\n",
    "_ = plt.title(\"effect of the parameter n_neighbors\")"
   ]
  },
  {
   "cell_type": "markdown",
   "id": "1b35850a",
   "metadata": {},
   "source": [
    "# Question 8\n",
    "Select the true affirmations stated below:\n",
    "\n",
    "- a) The model overfits for a range of `n_neighbors` values between 1 to 10\n",
    "- b) The model overfits for a range of `n_neighbors` values between 10 to 100\n",
    "- c) The model overfits for a range of `n_neighbors` values between 100 to 500\n"
   ]
  },
  {
   "cell_type": "markdown",
   "id": "68c08b42",
   "metadata": {},
   "source": [
    "# Question 9\n",
    "Select the true affirmations stated below:\n",
    "\n",
    "- a) The model best generalizes for a range of `n_neighbors` values between 1 to 10\n",
    "- b) The model best generalizes for a range of `n_neighbors` values between 10 to 100\n",
    "- c) The model best generalizes for a range of `n_neighbors` values between 100 to 500\n"
   ]
  },
  {
   "cell_type": "code",
   "execution_count": null,
   "id": "2a8923a3",
   "metadata": {},
   "outputs": [],
   "source": []
  }
 ],
 "metadata": {
  "kernelspec": {
   "display_name": "Python 3",
   "language": "python",
   "name": "python3"
  },
  "language_info": {
   "codemirror_mode": {
    "name": "ipython",
    "version": 3
   },
   "file_extension": ".py",
   "mimetype": "text/x-python",
   "name": "python",
   "nbconvert_exporter": "python",
   "pygments_lexer": "ipython3",
   "version": "3.9.4"
  },
  "toc": {
   "base_numbering": 1,
   "nav_menu": {},
   "number_sections": true,
   "sideBar": true,
   "skip_h1_title": false,
   "title_cell": "Table of Contents",
   "title_sidebar": "Contents",
   "toc_cell": false,
   "toc_position": {},
   "toc_section_display": true,
   "toc_window_display": true
  }
 },
 "nbformat": 4,
 "nbformat_minor": 5
}

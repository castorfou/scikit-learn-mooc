{
 "cells": [
  {
   "cell_type": "markdown",
   "id": "82a71ae5",
   "metadata": {},
   "source": [
    "# 📝 Introductory exercise regarding stratification\n",
    "\n",
    "The goal of this exercise is to highlight one limitation of\n",
    "applying blindly a k-fold cross-validation.\n",
    "\n",
    "In this exercise we will use the iris dataset."
   ]
  },
  {
   "cell_type": "code",
   "execution_count": 1,
   "id": "6d6be3b2",
   "metadata": {
    "ExecuteTime": {
     "end_time": "2021-06-24T06:44:33.602331Z",
     "start_time": "2021-06-24T06:44:33.191808Z"
    }
   },
   "outputs": [],
   "source": [
    "from sklearn.datasets import load_iris\n",
    "\n",
    "data, target = load_iris(return_X_y=True, as_frame=True)"
   ]
  },
  {
   "cell_type": "markdown",
   "id": "37d10804",
   "metadata": {},
   "source": [
    "Create a decision tree classifier that we will use in the next experiments."
   ]
  },
  {
   "cell_type": "code",
   "execution_count": 2,
   "id": "35c57f02",
   "metadata": {
    "ExecuteTime": {
     "end_time": "2021-06-24T06:44:58.649114Z",
     "start_time": "2021-06-24T06:44:58.642644Z"
    }
   },
   "outputs": [],
   "source": [
    "# Write your code here.\n",
    "from sklearn.tree import DecisionTreeClassifier\n",
    "\n",
    "dt = DecisionTreeClassifier()"
   ]
  },
  {
   "cell_type": "markdown",
   "id": "2c98e419",
   "metadata": {},
   "source": [
    "As a first experiment, use the utility\n",
    "`sklearn.model_selection.train_test_split` to split the data into a train\n",
    "and test set. Train the classifier using the train set and check the score\n",
    "on the test set."
   ]
  },
  {
   "cell_type": "code",
   "execution_count": 3,
   "id": "86185a44",
   "metadata": {
    "ExecuteTime": {
     "end_time": "2021-06-24T06:49:48.340978Z",
     "start_time": "2021-06-24T06:49:48.331167Z"
    }
   },
   "outputs": [
    {
     "name": "stdout",
     "output_type": "stream",
     "text": [
      "accuracy : 0.97\n"
     ]
    }
   ],
   "source": [
    "# Write your code here.\n",
    "from sklearn.model_selection import train_test_split\n",
    "from sklearn.metrics import accuracy_score\n",
    "\n",
    "data_train, data_test, target_train, target_test = train_test_split(\n",
    "    data, target, random_state=0)\n",
    "\n",
    "dt.fit(data_train, target_train)\n",
    "prediction = dt.predict(data_test)\n",
    "print(f'accuracy : {accuracy_score(prediction, target_test):0.02f}')"
   ]
  },
  {
   "cell_type": "markdown",
   "id": "6197bb22",
   "metadata": {},
   "source": [
    "Now, use the utility `sklearn.utils.cross_val_score` with a\n",
    "`sklearn.model_selection.KFold` by setting only `n_splits=3`. Check the\n",
    "results on each fold. Explain the results."
   ]
  },
  {
   "cell_type": "code",
   "execution_count": 5,
   "id": "92223695",
   "metadata": {
    "ExecuteTime": {
     "end_time": "2021-06-24T06:51:59.960490Z",
     "start_time": "2021-06-24T06:51:59.947108Z"
    }
   },
   "outputs": [
    {
     "name": "stdout",
     "output_type": "stream",
     "text": [
      "[0. 0. 0.]\n"
     ]
    }
   ],
   "source": [
    "# Write your code here.\n",
    "from sklearn.model_selection import cross_val_score\n",
    "from sklearn.model_selection import KFold\n",
    "\n",
    "cv = KFold(n_splits=3)\n",
    "\n",
    "score = cross_val_score(dt, data, target, cv=cv)\n",
    "\n",
    "print(score)\n"
   ]
  },
  {
   "cell_type": "code",
   "execution_count": null,
   "id": "deff6548",
   "metadata": {},
   "outputs": [],
   "source": []
  }
 ],
 "metadata": {
  "jupytext": {
   "cell_metadata_filter": "-all",
   "main_language": "python",
   "notebook_metadata_filter": "-all"
  },
  "kernelspec": {
   "display_name": "Python 3",
   "language": "python",
   "name": "python3"
  },
  "language_info": {
   "codemirror_mode": {
    "name": "ipython",
    "version": 3
   },
   "file_extension": ".py",
   "mimetype": "text/x-python",
   "name": "python",
   "nbconvert_exporter": "python",
   "pygments_lexer": "ipython3",
   "version": "3.9.4"
  },
  "toc": {
   "base_numbering": 1,
   "nav_menu": {},
   "number_sections": true,
   "sideBar": true,
   "skip_h1_title": false,
   "title_cell": "Table of Contents",
   "title_sidebar": "Contents",
   "toc_cell": false,
   "toc_position": {},
   "toc_section_display": true,
   "toc_window_display": true
  }
 },
 "nbformat": 4,
 "nbformat_minor": 5
}

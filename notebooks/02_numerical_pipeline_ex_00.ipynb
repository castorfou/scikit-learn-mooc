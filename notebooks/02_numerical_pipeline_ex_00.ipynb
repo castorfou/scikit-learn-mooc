{
 "cells": [
  {
   "cell_type": "markdown",
   "id": "824762e8",
   "metadata": {},
   "source": [
    "# 📝 Exercise M1.02\n",
    "\n",
    "The goal of this exercise is to fit a similar model as in the previous\n",
    "notebook to get familiar with manipulating scikit-learn objects and in\n",
    "particular the `.fit/.predict/.score` API."
   ]
  },
  {
   "cell_type": "markdown",
   "id": "92007b72",
   "metadata": {},
   "source": [
    "Let's load the adult census dataset with only numerical variables"
   ]
  },
  {
   "cell_type": "code",
   "execution_count": 1,
   "id": "cd2f17e4",
   "metadata": {
    "ExecuteTime": {
     "end_time": "2021-05-21T10:02:58.496134Z",
     "start_time": "2021-05-21T10:02:58.315706Z"
    }
   },
   "outputs": [],
   "source": [
    "import pandas as pd\n",
    "adult_census = pd.read_csv(\"../datasets/adult-census-numeric.csv\")\n",
    "data = adult_census.drop(columns=\"class\")\n",
    "target = adult_census[\"class\"]"
   ]
  },
  {
   "cell_type": "markdown",
   "id": "012756ce",
   "metadata": {},
   "source": [
    "In the previous notebook we used `model = KNeighborsClassifier()`. All\n",
    "scikit-learn models can be created without arguments, which means that you\n",
    "don't need to understand the details of the model to use it in scikit-learn.\n",
    "\n",
    "One of the `KNeighborsClassifier` parameters is `n_neighbors`. It controls\n",
    "the number of neighbors we are going to use to make a prediction for a new\n",
    "data point.\n",
    "\n",
    "What is the default value of the `n_neighbors` parameter? Hint: Look at the\n",
    "help inside your notebook `KNeighborsClassifier?` or on the [scikit-learn\n",
    "website](https://scikit-learn.org/stable/modules/generated/sklearn.neighbors.KNeighborsClassifier.html)"
   ]
  },
  {
   "cell_type": "code",
   "execution_count": 2,
   "id": "1c516cfc",
   "metadata": {
    "ExecuteTime": {
     "end_time": "2021-05-21T10:04:08.306310Z",
     "start_time": "2021-05-21T10:04:07.992941Z"
    }
   },
   "outputs": [],
   "source": [
    "from sklearn.neighbors import KNeighborsClassifier\n",
    "\n",
    "??KNeighborsClassifier"
   ]
  },
  {
   "cell_type": "markdown",
   "id": "3d95b026",
   "metadata": {},
   "source": [
    "Create a `KNeighborsClassifier` model with `n_neighbors=50`"
   ]
  },
  {
   "cell_type": "code",
   "execution_count": 3,
   "id": "eda847b3",
   "metadata": {
    "ExecuteTime": {
     "end_time": "2021-05-21T10:04:27.472490Z",
     "start_time": "2021-05-21T10:04:27.465890Z"
    }
   },
   "outputs": [],
   "source": [
    "# Write your code here.\n",
    "knc = KNeighborsClassifier(n_neighbors=50)"
   ]
  },
  {
   "cell_type": "markdown",
   "id": "3e927048",
   "metadata": {},
   "source": [
    "Fit this model on the data and target loaded above"
   ]
  },
  {
   "cell_type": "code",
   "execution_count": 4,
   "id": "f7a38cc9",
   "metadata": {
    "ExecuteTime": {
     "end_time": "2021-05-21T10:04:44.308334Z",
     "start_time": "2021-05-21T10:04:43.151337Z"
    }
   },
   "outputs": [
    {
     "data": {
      "text/plain": [
       "KNeighborsClassifier(n_neighbors=50)"
      ]
     },
     "execution_count": 4,
     "metadata": {},
     "output_type": "execute_result"
    }
   ],
   "source": [
    "# Write your code here.\n",
    "knc.fit(data, target)"
   ]
  },
  {
   "cell_type": "markdown",
   "id": "e503109e",
   "metadata": {},
   "source": [
    "Use your model to make predictions on the first 10 data points inside the\n",
    "data. Do they match the actual target values?"
   ]
  },
  {
   "cell_type": "code",
   "execution_count": 6,
   "id": "3fe3ed28",
   "metadata": {
    "ExecuteTime": {
     "end_time": "2021-05-21T10:05:17.345211Z",
     "start_time": "2021-05-21T10:05:17.335934Z"
    }
   },
   "outputs": [
    {
     "data": {
      "text/plain": [
       "0     True\n",
       "1     True\n",
       "2     True\n",
       "3     True\n",
       "4     True\n",
       "5     True\n",
       "6     True\n",
       "7     True\n",
       "8     True\n",
       "9    False\n",
       "Name: class, dtype: bool"
      ]
     },
     "execution_count": 6,
     "metadata": {},
     "output_type": "execute_result"
    }
   ],
   "source": [
    "# Write your code here.\n",
    "knc.predict(data[:10]) == target[:10]"
   ]
  },
  {
   "cell_type": "markdown",
   "id": "812295fb",
   "metadata": {},
   "source": [
    "Compute the accuracy on the training data."
   ]
  },
  {
   "cell_type": "code",
   "execution_count": 10,
   "id": "aa11a156",
   "metadata": {
    "ExecuteTime": {
     "end_time": "2021-05-21T10:06:57.803174Z",
     "start_time": "2021-05-21T10:06:55.819595Z"
    }
   },
   "outputs": [
    {
     "name": "stdout",
     "output_type": "stream",
     "text": [
      " accuracy 82.90 %\n"
     ]
    }
   ],
   "source": [
    "# Write your code here.\n",
    "acc = sum(knc.predict(data) == target)/data.shape[0]\n",
    "print(f' accuracy {100*acc:0.02f} %')"
   ]
  },
  {
   "cell_type": "markdown",
   "id": "5d8516a9",
   "metadata": {},
   "source": [
    "Now load the test data from `\"../datasets/adult-census-numeric-test.csv\"` and\n",
    "compute the accuracy on the test data."
   ]
  },
  {
   "cell_type": "code",
   "execution_count": 11,
   "id": "47e13ba0",
   "metadata": {
    "ExecuteTime": {
     "end_time": "2021-05-21T10:08:09.489660Z",
     "start_time": "2021-05-21T10:08:08.987614Z"
    }
   },
   "outputs": [
    {
     "name": "stdout",
     "output_type": "stream",
     "text": [
      " accuracy 81.82 %\n"
     ]
    }
   ],
   "source": [
    "# Write your code here.\n",
    "adult_test = pd.read_csv(\"../datasets/adult-census-numeric-test.csv\")\n",
    "data_test = adult_test.drop(columns=\"class\")\n",
    "target_test = adult_test[\"class\"]\n",
    "\n",
    "acc_test = sum(knc.predict(data_test) == target_test)/data_test.shape[0]\n",
    "print(f' accuracy {100*acc_test:0.02f} %')"
   ]
  },
  {
   "cell_type": "code",
   "execution_count": null,
   "id": "d34a1904",
   "metadata": {},
   "outputs": [],
   "source": []
  }
 ],
 "metadata": {
  "kernelspec": {
   "display_name": "Python 3",
   "language": "python",
   "name": "python3"
  },
  "language_info": {
   "codemirror_mode": {
    "name": "ipython",
    "version": 3
   },
   "file_extension": ".py",
   "mimetype": "text/x-python",
   "name": "python",
   "nbconvert_exporter": "python",
   "pygments_lexer": "ipython3",
   "version": "3.9.4"
  },
  "toc": {
   "base_numbering": 1,
   "nav_menu": {},
   "number_sections": true,
   "sideBar": true,
   "skip_h1_title": false,
   "title_cell": "Table of Contents",
   "title_sidebar": "Contents",
   "toc_cell": false,
   "toc_position": {},
   "toc_section_display": true,
   "toc_window_display": true
  }
 },
 "nbformat": 4,
 "nbformat_minor": 5
}

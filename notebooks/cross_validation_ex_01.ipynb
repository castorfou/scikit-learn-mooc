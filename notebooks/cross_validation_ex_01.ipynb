{
 "cells": [
  {
   "cell_type": "markdown",
   "id": "4b56c785",
   "metadata": {},
   "source": [
    "# 📝 Exercise M2.01\n",
    "\n",
    "The aim of this exercise is to make the following experiments:\n",
    "\n",
    "* train and test a support vector machine classifier through\n",
    "  cross-validation;\n",
    "* study the effect of the parameter gamma of this classifier using a\n",
    "  validation curve;\n",
    "* study if it would be useful in term of classification if we could add new\n",
    "  samples in the dataset using a learning curve.\n",
    "\n",
    "To make these experiments we will first load the blood transfusion dataset."
   ]
  },
  {
   "cell_type": "markdown",
   "id": "a6b83691",
   "metadata": {},
   "source": [
    "<div class=\"admonition note alert alert-info\">\n",
    "<p class=\"first admonition-title\" style=\"font-weight: bold;\">Note</p>\n",
    "<p class=\"last\">If you want a deeper overview regarding this dataset, you can refer to the\n",
    "Appendix - Datasets description section at the end of this MOOC.</p>\n",
    "</div>"
   ]
  },
  {
   "cell_type": "code",
   "execution_count": 14,
   "id": "bb6012a7",
   "metadata": {
    "ExecuteTime": {
     "end_time": "2021-05-27T08:01:20.385829Z",
     "start_time": "2021-05-27T08:01:20.380856Z"
    }
   },
   "outputs": [],
   "source": [
    "import pandas as pd\n",
    "\n",
    "blood_transfusion = pd.read_csv(\"../datasets/blood_transfusion.csv\")\n",
    "data = blood_transfusion.drop(columns=\"Class\")\n",
    "target = blood_transfusion[\"Class\"]"
   ]
  },
  {
   "cell_type": "markdown",
   "id": "0cfe7e82",
   "metadata": {},
   "source": [
    "We will use a support vector machine classifier (SVM). In its most simple\n",
    "form, a SVM classifier is a linear classifier behaving similarly to a\n",
    "logistic regression. Indeed, the optimization used to find the optimal\n",
    "weights of the linear model are different but we don't need to know these\n",
    "details for the exercise.\n",
    "\n",
    "Also, this classifier can become more flexible/expressive by using a\n",
    "so-called kernel making the model becomes non-linear. Again, no requirement\n",
    "regarding the mathematics is required to accomplish this exercise.\n",
    "\n",
    "We will use an RBF kernel where a parameter `gamma` allows to tune the\n",
    "flexibility of the model.\n",
    "\n",
    "First let's create a predictive pipeline made of:\n",
    "\n",
    "* a [`sklearn.preprocessing.StandardScaler`](https://scikit-learn.org/stable/modules/generated/sklearn.preprocessing.StandardScaler.html)\n",
    "  with default parameter;\n",
    "* a [`sklearn.svm.SVC`](https://scikit-learn.org/stable/modules/generated/sklearn.svm.SVC.html)\n",
    "  where the parameter `kernel` could be set to `\"rbf\"`. Note that this is the\n",
    "  default."
   ]
  },
  {
   "cell_type": "code",
   "execution_count": 15,
   "id": "a2800486",
   "metadata": {
    "ExecuteTime": {
     "end_time": "2021-05-27T08:01:20.396914Z",
     "start_time": "2021-05-27T08:01:20.386854Z"
    }
   },
   "outputs": [],
   "source": [
    "# to display nice model diagram\n",
    "from sklearn import set_config\n",
    "set_config(display='diagram')"
   ]
  },
  {
   "cell_type": "code",
   "execution_count": 16,
   "id": "397d25f0",
   "metadata": {
    "ExecuteTime": {
     "end_time": "2021-05-27T08:01:20.404377Z",
     "start_time": "2021-05-27T08:01:20.398127Z"
    }
   },
   "outputs": [
    {
     "data": {
      "text/html": [
       "<style>#sk-142af8d6-5db9-48a2-a128-eb30306a2f77 {color: black;background-color: white;}#sk-142af8d6-5db9-48a2-a128-eb30306a2f77 pre{padding: 0;}#sk-142af8d6-5db9-48a2-a128-eb30306a2f77 div.sk-toggleable {background-color: white;}#sk-142af8d6-5db9-48a2-a128-eb30306a2f77 label.sk-toggleable__label {cursor: pointer;display: block;width: 100%;margin-bottom: 0;padding: 0.2em 0.3em;box-sizing: border-box;text-align: center;}#sk-142af8d6-5db9-48a2-a128-eb30306a2f77 div.sk-toggleable__content {max-height: 0;max-width: 0;overflow: hidden;text-align: left;background-color: #f0f8ff;}#sk-142af8d6-5db9-48a2-a128-eb30306a2f77 div.sk-toggleable__content pre {margin: 0.2em;color: black;border-radius: 0.25em;background-color: #f0f8ff;}#sk-142af8d6-5db9-48a2-a128-eb30306a2f77 input.sk-toggleable__control:checked~div.sk-toggleable__content {max-height: 200px;max-width: 100%;overflow: auto;}#sk-142af8d6-5db9-48a2-a128-eb30306a2f77 div.sk-estimator input.sk-toggleable__control:checked~label.sk-toggleable__label {background-color: #d4ebff;}#sk-142af8d6-5db9-48a2-a128-eb30306a2f77 div.sk-label input.sk-toggleable__control:checked~label.sk-toggleable__label {background-color: #d4ebff;}#sk-142af8d6-5db9-48a2-a128-eb30306a2f77 input.sk-hidden--visually {border: 0;clip: rect(1px 1px 1px 1px);clip: rect(1px, 1px, 1px, 1px);height: 1px;margin: -1px;overflow: hidden;padding: 0;position: absolute;width: 1px;}#sk-142af8d6-5db9-48a2-a128-eb30306a2f77 div.sk-estimator {font-family: monospace;background-color: #f0f8ff;margin: 0.25em 0.25em;border: 1px dotted black;border-radius: 0.25em;box-sizing: border-box;}#sk-142af8d6-5db9-48a2-a128-eb30306a2f77 div.sk-estimator:hover {background-color: #d4ebff;}#sk-142af8d6-5db9-48a2-a128-eb30306a2f77 div.sk-parallel-item::after {content: \"\";width: 100%;border-bottom: 1px solid gray;flex-grow: 1;}#sk-142af8d6-5db9-48a2-a128-eb30306a2f77 div.sk-label:hover label.sk-toggleable__label {background-color: #d4ebff;}#sk-142af8d6-5db9-48a2-a128-eb30306a2f77 div.sk-serial::before {content: \"\";position: absolute;border-left: 1px solid gray;box-sizing: border-box;top: 2em;bottom: 0;left: 50%;}#sk-142af8d6-5db9-48a2-a128-eb30306a2f77 div.sk-serial {display: flex;flex-direction: column;align-items: center;background-color: white;}#sk-142af8d6-5db9-48a2-a128-eb30306a2f77 div.sk-item {z-index: 1;}#sk-142af8d6-5db9-48a2-a128-eb30306a2f77 div.sk-parallel {display: flex;align-items: stretch;justify-content: center;background-color: white;}#sk-142af8d6-5db9-48a2-a128-eb30306a2f77 div.sk-parallel-item {display: flex;flex-direction: column;position: relative;background-color: white;}#sk-142af8d6-5db9-48a2-a128-eb30306a2f77 div.sk-parallel-item:first-child::after {align-self: flex-end;width: 50%;}#sk-142af8d6-5db9-48a2-a128-eb30306a2f77 div.sk-parallel-item:last-child::after {align-self: flex-start;width: 50%;}#sk-142af8d6-5db9-48a2-a128-eb30306a2f77 div.sk-parallel-item:only-child::after {width: 0;}#sk-142af8d6-5db9-48a2-a128-eb30306a2f77 div.sk-dashed-wrapped {border: 1px dashed gray;margin: 0.2em;box-sizing: border-box;padding-bottom: 0.1em;background-color: white;position: relative;}#sk-142af8d6-5db9-48a2-a128-eb30306a2f77 div.sk-label label {font-family: monospace;font-weight: bold;background-color: white;display: inline-block;line-height: 1.2em;}#sk-142af8d6-5db9-48a2-a128-eb30306a2f77 div.sk-label-container {position: relative;z-index: 2;text-align: center;}#sk-142af8d6-5db9-48a2-a128-eb30306a2f77 div.sk-container {display: inline-block;position: relative;}</style><div id=\"sk-142af8d6-5db9-48a2-a128-eb30306a2f77\" class\"sk-top-container\"><div class=\"sk-container\"><div class=\"sk-item sk-dashed-wrapped\"><div class=\"sk-label-container\"><div class=\"sk-label sk-toggleable\"><input class=\"sk-toggleable__control sk-hidden--visually\" id=\"e3fb7331-f889-40ff-be47-1fcdeb045d15\" type=\"checkbox\" ><label class=\"sk-toggleable__label\" for=\"e3fb7331-f889-40ff-be47-1fcdeb045d15\">Pipeline</label><div class=\"sk-toggleable__content\"><pre>Pipeline(steps=[('standardscaler', StandardScaler()), ('svc', SVC())])</pre></div></div></div><div class=\"sk-serial\"><div class=\"sk-item\"><div class=\"sk-estimator sk-toggleable\"><input class=\"sk-toggleable__control sk-hidden--visually\" id=\"1a06ecfc-49bf-4596-8363-aa60117cab96\" type=\"checkbox\" ><label class=\"sk-toggleable__label\" for=\"1a06ecfc-49bf-4596-8363-aa60117cab96\">StandardScaler</label><div class=\"sk-toggleable__content\"><pre>StandardScaler()</pre></div></div></div><div class=\"sk-item\"><div class=\"sk-estimator sk-toggleable\"><input class=\"sk-toggleable__control sk-hidden--visually\" id=\"9629d800-0346-4c65-b6c8-6af1dbf55ec7\" type=\"checkbox\" ><label class=\"sk-toggleable__label\" for=\"9629d800-0346-4c65-b6c8-6af1dbf55ec7\">SVC</label><div class=\"sk-toggleable__content\"><pre>SVC()</pre></div></div></div></div></div></div></div>"
      ],
      "text/plain": [
       "Pipeline(steps=[('standardscaler', StandardScaler()), ('svc', SVC())])"
      ]
     },
     "execution_count": 16,
     "metadata": {},
     "output_type": "execute_result"
    }
   ],
   "source": [
    "# Write your code here.\n",
    "\n",
    "from sklearn.preprocessing import StandardScaler\n",
    "from sklearn.svm import SVC\n",
    "from sklearn.pipeline import make_pipeline\n",
    "\n",
    "model = make_pipeline(StandardScaler(), SVC(kernel='rbf'))\n",
    "model"
   ]
  },
  {
   "cell_type": "markdown",
   "id": "0a1b13c1",
   "metadata": {},
   "source": [
    "Evaluate the statistical performance of your model by cross-validation with a\n",
    "`ShuffleSplit` scheme. Thus, you can use\n",
    "[`sklearn.model_selection.cross_validate`](https://scikit-learn.org/stable/modules/generated/sklearn.model_selection.cross_validate.html)\n",
    "and pass a [`sklearn.model_selection.ShuffleSplit`](https://scikit-learn.org/stable/modules/generated/sklearn.model_selection.ShuffleSplit.html)\n",
    "to the `cv` parameter. Only fix the `random_state=0` in the `ShuffleSplit`\n",
    "and let the other parameters to the default."
   ]
  },
  {
   "cell_type": "code",
   "execution_count": 17,
   "id": "e306bbec",
   "metadata": {
    "ExecuteTime": {
     "end_time": "2021-05-27T08:01:20.566511Z",
     "start_time": "2021-05-27T08:01:20.405386Z"
    }
   },
   "outputs": [
    {
     "data": {
      "text/html": [
       "<div>\n",
       "<style scoped>\n",
       "    .dataframe tbody tr th:only-of-type {\n",
       "        vertical-align: middle;\n",
       "    }\n",
       "\n",
       "    .dataframe tbody tr th {\n",
       "        vertical-align: top;\n",
       "    }\n",
       "\n",
       "    .dataframe thead th {\n",
       "        text-align: right;\n",
       "    }\n",
       "</style>\n",
       "<table border=\"1\" class=\"dataframe\">\n",
       "  <thead>\n",
       "    <tr style=\"text-align: right;\">\n",
       "      <th></th>\n",
       "      <th>fit_time</th>\n",
       "      <th>score_time</th>\n",
       "      <th>test_score</th>\n",
       "    </tr>\n",
       "  </thead>\n",
       "  <tbody>\n",
       "    <tr>\n",
       "      <th>0</th>\n",
       "      <td>0.014301</td>\n",
       "      <td>0.002356</td>\n",
       "      <td>0.680000</td>\n",
       "    </tr>\n",
       "    <tr>\n",
       "      <th>1</th>\n",
       "      <td>0.012795</td>\n",
       "      <td>0.002248</td>\n",
       "      <td>0.746667</td>\n",
       "    </tr>\n",
       "    <tr>\n",
       "      <th>2</th>\n",
       "      <td>0.012998</td>\n",
       "      <td>0.002205</td>\n",
       "      <td>0.786667</td>\n",
       "    </tr>\n",
       "    <tr>\n",
       "      <th>3</th>\n",
       "      <td>0.012772</td>\n",
       "      <td>0.002260</td>\n",
       "      <td>0.800000</td>\n",
       "    </tr>\n",
       "    <tr>\n",
       "      <th>4</th>\n",
       "      <td>0.013011</td>\n",
       "      <td>0.002196</td>\n",
       "      <td>0.746667</td>\n",
       "    </tr>\n",
       "    <tr>\n",
       "      <th>5</th>\n",
       "      <td>0.012751</td>\n",
       "      <td>0.002145</td>\n",
       "      <td>0.786667</td>\n",
       "    </tr>\n",
       "    <tr>\n",
       "      <th>6</th>\n",
       "      <td>0.012373</td>\n",
       "      <td>0.002167</td>\n",
       "      <td>0.800000</td>\n",
       "    </tr>\n",
       "    <tr>\n",
       "      <th>7</th>\n",
       "      <td>0.011784</td>\n",
       "      <td>0.002034</td>\n",
       "      <td>0.826667</td>\n",
       "    </tr>\n",
       "    <tr>\n",
       "      <th>8</th>\n",
       "      <td>0.012087</td>\n",
       "      <td>0.002063</td>\n",
       "      <td>0.746667</td>\n",
       "    </tr>\n",
       "    <tr>\n",
       "      <th>9</th>\n",
       "      <td>0.012192</td>\n",
       "      <td>0.002087</td>\n",
       "      <td>0.733333</td>\n",
       "    </tr>\n",
       "  </tbody>\n",
       "</table>\n",
       "</div>"
      ],
      "text/plain": [
       "   fit_time  score_time  test_score\n",
       "0  0.014301    0.002356    0.680000\n",
       "1  0.012795    0.002248    0.746667\n",
       "2  0.012998    0.002205    0.786667\n",
       "3  0.012772    0.002260    0.800000\n",
       "4  0.013011    0.002196    0.746667\n",
       "5  0.012751    0.002145    0.786667\n",
       "6  0.012373    0.002167    0.800000\n",
       "7  0.011784    0.002034    0.826667\n",
       "8  0.012087    0.002063    0.746667\n",
       "9  0.012192    0.002087    0.733333"
      ]
     },
     "execution_count": 17,
     "metadata": {},
     "output_type": "execute_result"
    }
   ],
   "source": [
    "# Write your code here.\n",
    "\n",
    "import pandas as pd\n",
    "from sklearn.model_selection import cross_validate, ShuffleSplit\n",
    "\n",
    "cv = ShuffleSplit(random_state=0)\n",
    "cv_results = cross_validate(model, data, target,\n",
    "                            cv=cv)\n",
    "cv_results = pd.DataFrame(cv_results)\n",
    "cv_results"
   ]
  },
  {
   "cell_type": "markdown",
   "id": "6092374c",
   "metadata": {},
   "source": [
    "As previously mentioned, the parameter `gamma` is one of the parameter\n",
    "controlling under/over-fitting in support vector machine with an RBF kernel.\n",
    "\n",
    "Compute the validation curve\n",
    "(using [`sklearn.model_selection.validation_curve`](https://scikit-learn.org/stable/modules/generated/sklearn.model_selection.validation_curve.html))\n",
    "to evaluate the effect of the parameter `gamma`. You can vary its value\n",
    "between `10e-3` and `10e2` by generating samples on a logarithmic scale.\n",
    "Thus, you can use `np.logspace(-3, 2, num=30)`.\n",
    "\n",
    "Since we are manipulating a `Pipeline` the parameter name will be set to\n",
    "`svc__gamma` instead of only `gamma`. You can retrieve the parameter name\n",
    "using `model.get_params().keys()`. We will go more into details regarding\n",
    "accessing and setting hyperparameter in the next section."
   ]
  },
  {
   "cell_type": "code",
   "execution_count": 18,
   "id": "91d4ab5b",
   "metadata": {
    "ExecuteTime": {
     "end_time": "2021-05-27T08:01:28.439641Z",
     "start_time": "2021-05-27T08:01:20.567445Z"
    }
   },
   "outputs": [],
   "source": [
    "# Write your code here.\n",
    "\n",
    "from sklearn.model_selection import validation_curve\n",
    "import numpy as np\n",
    "\n",
    "gamma = np.logspace(-3, 2, num=30)\n",
    "train_scores, test_scores = validation_curve(\n",
    "    model, data, target, param_name=\"svc__gamma\", param_range=gamma,\n",
    "    cv=cv)\n",
    "train_errors, test_errors = -train_scores, -test_scores"
   ]
  },
  {
   "cell_type": "markdown",
   "id": "4ae930c7",
   "metadata": {},
   "source": [
    "Plot the validation curve for the train and test scores."
   ]
  },
  {
   "cell_type": "code",
   "execution_count": 22,
   "id": "0b4c9634",
   "metadata": {
    "ExecuteTime": {
     "end_time": "2021-05-27T08:02:48.686206Z",
     "start_time": "2021-05-27T08:02:48.560555Z"
    }
   },
   "outputs": [
    {
     "data": {
      "image/png": "[encoded data removed]",
      "text/plain": [
       "<Figure size 432x288 with 1 Axes>"
      ]
     },
     "metadata": {
      "needs_background": "light"
     },
     "output_type": "display_data"
    }
   ],
   "source": [
    "# Write your code here.\n",
    "\n",
    "import matplotlib.pyplot as plt\n",
    "\n",
    "plt.errorbar(gamma, train_scores.mean(axis=1),yerr=train_scores.std(axis=1), label=\"Training error\")\n",
    "plt.errorbar(gamma, test_scores.mean(axis=1),yerr=test_scores.std(axis=1), label=\"Testing error\")\n",
    "plt.legend()\n",
    "\n",
    "plt.xscale(\"log\")\n",
    "\n",
    "plt.xlabel(\"Gamma value for SVC\")\n",
    "plt.ylabel(\"Mean absolute error\")\n",
    "_ = plt.title(\"Validation curve for SVC\")"
   ]
  },
  {
   "cell_type": "markdown",
   "id": "d14ca4f1",
   "metadata": {},
   "source": [
    "Now, you can perform an analysis to check whether adding new samples to the\n",
    "dataset could help our model to better generalize. Compute the learning curve\n",
    "(using [`sklearn.model_selection.learning_curve`](https://scikit-learn.org/stable/modules/generated/sklearn.model_selection.learning_curve.html))\n",
    "by computing the train and test scores for different training dataset size.\n",
    "Plot the train and test scores with respect to the number of samples."
   ]
  },
  {
   "cell_type": "code",
   "execution_count": 12,
   "id": "10db3600",
   "metadata": {
    "ExecuteTime": {
     "end_time": "2021-05-27T07:56:44.399035Z",
     "start_time": "2021-05-27T07:56:42.427519Z"
    }
   },
   "outputs": [
    {
     "data": {
      "image/png": "[encoded data removed]",
      "text/plain": [
       "<Figure size 432x288 with 1 Axes>"
      ]
     },
     "metadata": {
      "needs_background": "light"
     },
     "output_type": "display_data"
    }
   ],
   "source": [
    "# Write your code here.\n",
    "\n",
    "from sklearn.model_selection import learning_curve\n",
    "import numpy as np\n",
    "train_sizes = np.linspace(0.1, 1.0, num=5, endpoint=True)\n",
    "train_sizes\n",
    "\n",
    "from sklearn.model_selection import ShuffleSplit\n",
    "\n",
    "cv = ShuffleSplit(n_splits=30, test_size=0.2)\n",
    "\n",
    "results = learning_curve(\n",
    "    model, data, target, train_sizes=train_sizes, cv=cv)\n",
    "train_size, train_scores, test_scores = results[:3]\n",
    "# Convert the scores into errors\n",
    "train_errors, test_errors = -train_scores, -test_scores\n",
    "\n",
    "import matplotlib.pyplot as plt\n",
    "\n",
    "plt.errorbar(train_size, train_errors.mean(axis=1),\n",
    "             yerr=train_errors.std(axis=1), label=\"Training error\")\n",
    "plt.errorbar(train_size, test_errors.mean(axis=1),\n",
    "             yerr=test_errors.std(axis=1), label=\"Testing error\")\n",
    "plt.legend()\n",
    "\n",
    "plt.xscale(\"log\")\n",
    "plt.xlabel(\"Number of samples in the training set\")\n",
    "plt.ylabel(\"Mean absolute error\")\n",
    "_ = plt.title(\"Learning curve for SVC\")"
   ]
  },
  {
   "cell_type": "code",
   "execution_count": null,
   "id": "504f0a10",
   "metadata": {},
   "outputs": [],
   "source": []
  }
 ],
 "metadata": {
  "jupytext": {
   "cell_metadata_filter": "-all",
   "main_language": "python",
   "notebook_metadata_filter": "-all"
  },
  "kernelspec": {
   "display_name": "Python 3",
   "language": "python",
   "name": "python3"
  },
  "language_info": {
   "codemirror_mode": {
    "name": "ipython",
    "version": 3
   },
   "file_extension": ".py",
   "mimetype": "text/x-python",
   "name": "python",
   "nbconvert_exporter": "python",
   "pygments_lexer": "ipython3",
   "version": "3.9.4"
  },
  "toc": {
   "base_numbering": 1,
   "nav_menu": {},
   "number_sections": true,
   "sideBar": true,
   "skip_h1_title": false,
   "title_cell": "Table of Contents",
   "title_sidebar": "Contents",
   "toc_cell": false,
   "toc_position": {},
   "toc_section_display": true,
   "toc_window_display": true
  }
 },
 "nbformat": 4,
 "nbformat_minor": 5
}

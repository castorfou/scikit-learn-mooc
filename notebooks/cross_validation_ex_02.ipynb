{
 "cells": [
  {
   "cell_type": "markdown",
   "id": "af54391b",
   "metadata": {},
   "source": [
    "# 📝 Exercise M7.01\n",
    "\n",
    "This notebook aims at building baseline classifiers, which we'll use to\n",
    "compare our predictive model. Besides, we will check the differences with\n",
    "the baselines that we saw in regression.\n",
    "\n",
    "We will use the adult census dataset, using only the numerical features."
   ]
  },
  {
   "cell_type": "code",
   "execution_count": 1,
   "id": "8732f225",
   "metadata": {
    "ExecuteTime": {
     "end_time": "2021-06-24T06:26:15.026597Z",
     "start_time": "2021-06-24T06:26:14.838907Z"
    }
   },
   "outputs": [],
   "source": [
    "import pandas as pd\n",
    "\n",
    "adult_census = pd.read_csv(\"../datasets/adult-census-numeric-all.csv\")\n",
    "data, target = adult_census.drop(columns=\"class\"), adult_census[\"class\"]"
   ]
  },
  {
   "cell_type": "markdown",
   "id": "7df2dff6",
   "metadata": {},
   "source": [
    "First, define a `ShuffleSplit` cross-validation strategy taking half of the\n",
    "sample as a testing at each round."
   ]
  },
  {
   "cell_type": "code",
   "execution_count": 2,
   "id": "225351c8",
   "metadata": {
    "ExecuteTime": {
     "end_time": "2021-06-24T06:26:42.008393Z",
     "start_time": "2021-06-24T06:26:41.796720Z"
    }
   },
   "outputs": [],
   "source": [
    "# Write your code here.\n",
    "from sklearn.model_selection import ShuffleSplit\n",
    "\n",
    "cv = ShuffleSplit(n_splits=30, test_size=0.5, random_state=0)"
   ]
  },
  {
   "cell_type": "markdown",
   "id": "6fa17f7c",
   "metadata": {},
   "source": [
    "Next, create a machine learning pipeline composed of a transformer to\n",
    "standardize the data followed by a logistic regression."
   ]
  },
  {
   "cell_type": "code",
   "execution_count": 3,
   "id": "0d2737ca",
   "metadata": {
    "ExecuteTime": {
     "end_time": "2021-06-24T06:30:30.583390Z",
     "start_time": "2021-06-24T06:30:30.578247Z"
    }
   },
   "outputs": [],
   "source": [
    "# Write your code here.\n",
    "from sklearn.pipeline import make_pipeline\n",
    "from sklearn.linear_model import LogisticRegression\n",
    "from sklearn.preprocessing import StandardScaler\n",
    "\n",
    "pipeline = make_pipeline(StandardScaler(), LogisticRegression())"
   ]
  },
  {
   "cell_type": "markdown",
   "id": "9b96f29c",
   "metadata": {},
   "source": [
    "Get the test score by using the model, the data, and the cross-validation\n",
    "strategy that you defined above."
   ]
  },
  {
   "cell_type": "code",
   "execution_count": 10,
   "id": "abc8706d",
   "metadata": {
    "ExecuteTime": {
     "end_time": "2021-06-24T06:35:24.325869Z",
     "start_time": "2021-06-24T06:35:20.142048Z"
    }
   },
   "outputs": [
    {
     "name": "stdout",
     "output_type": "stream",
     "text": [
      "Test score 0.81\n"
     ]
    }
   ],
   "source": [
    "# Write your code here.\n",
    "from sklearn.model_selection import cross_validate\n",
    "import pandas as pd\n",
    "\n",
    "result_classifier = cross_validate(pipeline, data, target, cv=cv)\n",
    "errors_classifier = pd.Series(result_classifier['test_score'], name='classifier error')\n",
    "print(f'Test score {errors_classifier.mean():0.02f}')"
   ]
  },
  {
   "cell_type": "markdown",
   "id": "2de13e93",
   "metadata": {},
   "source": [
    "Using the `sklearn.model_selection.permutation_test_score` function,\n",
    "check the chance level of the previous model."
   ]
  },
  {
   "cell_type": "code",
   "execution_count": 11,
   "id": "bb3f65e7",
   "metadata": {
    "ExecuteTime": {
     "end_time": "2021-06-24T06:37:02.393840Z",
     "start_time": "2021-06-24T06:36:44.531957Z"
    }
   },
   "outputs": [
    {
     "name": "stdout",
     "output_type": "stream",
     "text": [
      "Permutation score 0.76\n"
     ]
    }
   ],
   "source": [
    "# Write your code here.\n",
    "from sklearn.model_selection import permutation_test_score\n",
    "\n",
    "score, permutation_score, pvalue = permutation_test_score(\n",
    "    pipeline, data, target, cv=cv, \n",
    "    n_jobs=-1, n_permutations=30)\n",
    "errors_permutation = pd.Series(permutation_score, name=\"Permuted error\")\n",
    "\n",
    "print(f'Permutation score {errors_permutation.mean():0.02f}')"
   ]
  },
  {
   "cell_type": "markdown",
   "id": "a9f62606",
   "metadata": {},
   "source": [
    "Finally, compute the test score of a dummy classifier which would predict\n",
    "the most frequent class from the training set. You can look at the\n",
    "`sklearn.dummy.DummyClassifier` class."
   ]
  },
  {
   "cell_type": "code",
   "execution_count": 12,
   "id": "6e353095",
   "metadata": {
    "ExecuteTime": {
     "end_time": "2021-06-24T06:38:09.893403Z",
     "start_time": "2021-06-24T06:38:09.443953Z"
    }
   },
   "outputs": [
    {
     "name": "stdout",
     "output_type": "stream",
     "text": [
      "Dummy score 0.76\n"
     ]
    }
   ],
   "source": [
    "# Write your code here.\n",
    "from sklearn.dummy import DummyClassifier\n",
    "\n",
    "dummy = DummyClassifier()\n",
    "result_dummy = cross_validate(dummy, data, target,\n",
    "                              cv=cv, n_jobs=-1)\n",
    "errors_dummy = pd.Series(result_dummy[\"test_score\"], name=\"Dummy error\")\n",
    "print(f'Dummy score {errors_dummy.mean():0.02f}')"
   ]
  },
  {
   "cell_type": "markdown",
   "id": "1ccd91e4",
   "metadata": {},
   "source": [
    "Now that we collected the results from the baselines and the model, plot\n",
    "the distributions of the different test scores."
   ]
  },
  {
   "cell_type": "markdown",
   "id": "e2733a06",
   "metadata": {},
   "source": [
    "We concatenate the different test score in the same pandas dataframe."
   ]
  },
  {
   "cell_type": "code",
   "execution_count": 13,
   "id": "acbd4bd4",
   "metadata": {
    "ExecuteTime": {
     "end_time": "2021-06-24T06:38:28.673018Z",
     "start_time": "2021-06-24T06:38:28.659867Z"
    }
   },
   "outputs": [],
   "source": [
    "# Write your code here.\n",
    "final_errors = pd.concat([errors_classifier, errors_dummy, errors_permutation],\n",
    "                         axis=1)"
   ]
  },
  {
   "cell_type": "markdown",
   "id": "68410efe",
   "metadata": {},
   "source": [
    "Next, plot the distributions of the test scores."
   ]
  },
  {
   "cell_type": "code",
   "execution_count": 14,
   "id": "8225e015",
   "metadata": {
    "ExecuteTime": {
     "end_time": "2021-06-24T06:38:50.744215Z",
     "start_time": "2021-06-24T06:38:50.340407Z"
    }
   },
   "outputs": [
    {
     "data": {
      "image/png": "[encoded data removed]",
      "text/plain": [
       "<Figure size 432x288 with 1 Axes>"
      ]
     },
     "metadata": {
      "needs_background": "light"
     },
     "output_type": "display_data"
    }
   ],
   "source": [
    "# Write your code here.\n",
    "import matplotlib.pyplot as plt\n",
    "\n",
    "final_errors.plot.hist(bins=50, density=True, edgecolor=\"black\")\n",
    "plt.legend(bbox_to_anchor=(1.05, 0.8), loc=\"upper left\")\n",
    "plt.xlabel(\"Accuracy\")\n",
    "_ = plt.title(\"Distribution of the testing errors\")"
   ]
  },
  {
   "cell_type": "markdown",
   "id": "ed00fd3e",
   "metadata": {},
   "source": [
    "Change the strategy of the dummy classifier to `stratified`, compute the\n",
    "results and plot the distribution together with the other results. Explain\n",
    "why the results get worse."
   ]
  },
  {
   "cell_type": "code",
   "execution_count": 15,
   "id": "53188dff",
   "metadata": {
    "ExecuteTime": {
     "end_time": "2021-06-24T06:39:37.914947Z",
     "start_time": "2021-06-24T06:39:37.494286Z"
    }
   },
   "outputs": [
    {
     "name": "stdout",
     "output_type": "stream",
     "text": [
      "Dummy score 0.64\n"
     ]
    }
   ],
   "source": [
    "# Write your code here.\n",
    "from sklearn.dummy import DummyClassifier\n",
    "\n",
    "dummy = DummyClassifier(strategy='stratified')\n",
    "result_dummy = cross_validate(dummy, data, target,\n",
    "                              cv=cv, n_jobs=-1)\n",
    "errors_dummy = pd.Series(result_dummy[\"test_score\"], name=\"Dummy error\")\n",
    "print(f'Dummy score {errors_dummy.mean():0.02f}')"
   ]
  },
  {
   "cell_type": "code",
   "execution_count": null,
   "id": "17c5cbc2",
   "metadata": {},
   "outputs": [],
   "source": []
  }
 ],
 "metadata": {
  "jupytext": {
   "cell_metadata_filter": "-all",
   "main_language": "python",
   "notebook_metadata_filter": "-all"
  },
  "kernelspec": {
   "display_name": "Python 3",
   "language": "python",
   "name": "python3"
  },
  "language_info": {
   "codemirror_mode": {
    "name": "ipython",
    "version": 3
   },
   "file_extension": ".py",
   "mimetype": "text/x-python",
   "name": "python",
   "nbconvert_exporter": "python",
   "pygments_lexer": "ipython3",
   "version": "3.9.4"
  },
  "toc": {
   "base_numbering": 1,
   "nav_menu": {},
   "number_sections": true,
   "sideBar": true,
   "skip_h1_title": false,
   "title_cell": "Table of Contents",
   "title_sidebar": "Contents",
   "toc_cell": false,
   "toc_position": {},
   "toc_section_display": true,
   "toc_window_display": false
  }
 },
 "nbformat": 4,
 "nbformat_minor": 5
}

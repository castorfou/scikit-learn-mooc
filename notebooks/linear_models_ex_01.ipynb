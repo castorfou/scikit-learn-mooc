{
 "cells": [
  {
   "cell_type": "markdown",
   "id": "dacf112b",
   "metadata": {},
   "source": [
    "# 📝 Exercise M4.01\n",
    "\n",
    "The aim of this exercise is two-fold:\n",
    "\n",
    "* understand the parametrization of a linear model;\n",
    "* quantify the fitting accuracy of a set of such models.\n",
    "\n",
    "We will reuse part of the code of the course to:\n",
    "\n",
    "* load data;\n",
    "* create the function representing a linear model.\n",
    "\n",
    "## Prerequisites\n",
    "\n",
    "### Data loading"
   ]
  },
  {
   "cell_type": "markdown",
   "id": "2fb931af",
   "metadata": {},
   "source": [
    "<div class=\"admonition note alert alert-info\">\n",
    "<p class=\"first admonition-title\" style=\"font-weight: bold;\">Note</p>\n",
    "<p class=\"last\">If you want a deeper overview regarding this dataset, you can refer to the\n",
    "Appendix - Datasets description section at the end of this MOOC.</p>\n",
    "</div>"
   ]
  },
  {
   "cell_type": "code",
   "execution_count": 1,
   "id": "db7a379c",
   "metadata": {
    "ExecuteTime": {
     "end_time": "2021-06-02T15:28:38.871738Z",
     "start_time": "2021-06-02T15:28:38.691908Z"
    }
   },
   "outputs": [],
   "source": [
    "import pandas as pd\n",
    "\n",
    "penguins = pd.read_csv(\"../datasets/penguins_regression.csv\")\n",
    "feature_name = \"Flipper Length (mm)\"\n",
    "target_name = \"Body Mass (g)\"\n",
    "data, target = penguins[[feature_name]], penguins[target_name]"
   ]
  },
  {
   "cell_type": "markdown",
   "id": "43827309",
   "metadata": {
    "lines_to_next_cell": 2
   },
   "source": [
    "### Model definition"
   ]
  },
  {
   "cell_type": "code",
   "execution_count": 2,
   "id": "1e8d6586",
   "metadata": {
    "ExecuteTime": {
     "end_time": "2021-06-02T15:28:40.301689Z",
     "start_time": "2021-06-02T15:28:40.299652Z"
    }
   },
   "outputs": [],
   "source": [
    "def linear_model_flipper_mass(\n",
    "    flipper_length, weight_flipper_length, intercept_body_mass\n",
    "):\n",
    "    \"\"\"Linear model of the form y = a * x + b\"\"\"\n",
    "    body_mass = weight_flipper_length * flipper_length + intercept_body_mass\n",
    "    return body_mass"
   ]
  },
  {
   "cell_type": "markdown",
   "id": "cef1679d",
   "metadata": {},
   "source": [
    "## Main exercise\n",
    "\n",
    "Given a vector of the flipper length, several weights and intercepts to\n",
    "plot several linear model that could fit our data. Use the above\n",
    "visualization helper function to visualize both the model and data."
   ]
  },
  {
   "cell_type": "code",
   "execution_count": 3,
   "id": "47220e46",
   "metadata": {
    "ExecuteTime": {
     "end_time": "2021-06-02T15:28:50.994690Z",
     "start_time": "2021-06-02T15:28:50.991438Z"
    }
   },
   "outputs": [],
   "source": [
    "import numpy as np\n",
    "\n",
    "flipper_length_range = np.linspace(data.min(), data.max(), num=300)"
   ]
  },
  {
   "cell_type": "code",
   "execution_count": 4,
   "id": "c525ba48",
   "metadata": {
    "ExecuteTime": {
     "end_time": "2021-06-02T15:31:45.425499Z",
     "start_time": "2021-06-02T15:31:45.423437Z"
    },
    "lines_to_next_cell": 2
   },
   "outputs": [],
   "source": [
    "# Write your code here.\n",
    "# weights = [...]\n",
    "# intercepts = [...]\n",
    "weights = [45, -40, 25]\n",
    "intercepts = [-5000, 13000, 0]"
   ]
  },
  {
   "cell_type": "markdown",
   "id": "451e6f95",
   "metadata": {
    "lines_to_next_cell": 2
   },
   "source": [
    "In the previous question, you were asked to create several linear models.\n",
    "The visualization allowed you to qualitatively assess if a model was better\n",
    "than another.\n",
    "\n",
    "Now, you should come up with a quantitative measure which will indicate the\n",
    "goodness of fit of each linear model. This quantitative metric should result\n",
    "in a single scalar and allow you to pick up the best model."
   ]
  },
  {
   "cell_type": "code",
   "execution_count": 23,
   "id": "211d1425",
   "metadata": {
    "ExecuteTime": {
     "end_time": "2021-06-02T15:38:30.268658Z",
     "start_time": "2021-06-02T15:38:30.266216Z"
    },
    "lines_to_next_cell": 2
   },
   "outputs": [],
   "source": [
    "import numpy as np\n",
    "def goodness_fit_measure(true_values, predictions):\n",
    "    # Write your code here.\n",
    "    # Define a measure indicating the goodness of fit of a model given the true\n",
    "    # values and the model predictions.\n",
    "#     print(f'true_values {true_values} - predictions {predictions}')\n",
    "    error = np.sum(np.square(true_values.to_numpy()-predictions.to_numpy()))/true_values.shape[0]\n",
    "    print(error)\n",
    "    return error"
   ]
  },
  {
   "cell_type": "code",
   "execution_count": 24,
   "id": "2c630d25",
   "metadata": {
    "ExecuteTime": {
     "end_time": "2021-06-02T15:38:30.988326Z",
     "start_time": "2021-06-02T15:38:30.971976Z"
    }
   },
   "outputs": [
    {
     "name": "stdout",
     "output_type": "stream",
     "text": [
      "Model #0:\n",
      "45.00 (g / mm) * flipper length + -5000.00 (g)\n",
      "364664153.94736844\n",
      "Error: 364664153.947\n",
      "\n",
      "Model #1:\n",
      "-40.00 (g / mm) * flipper length + 13000.00 (g)\n",
      "525581479.8245614\n",
      "Error: 525581479.825\n",
      "\n",
      "Model #2:\n",
      "25.00 (g / mm) * flipper length + 0.00 (g)\n",
      "492041918.8596491\n",
      "Error: 492041918.860\n",
      "\n"
     ]
    }
   ],
   "source": [
    "# Uncomment the code below.\n",
    "for model_idx, (weight, intercept) in enumerate(zip(weights, intercepts)):\n",
    "    target_predicted = linear_model_flipper_mass(data, weight, intercept)\n",
    "    print(f\"Model #{model_idx}:\")\n",
    "    print(f\"{weight:.2f} (g / mm) * flipper length + {intercept:.2f} (g)\")\n",
    "    print(f\"Error: {goodness_fit_measure(target, target_predicted):.3f}\\n\")"
   ]
  },
  {
   "cell_type": "code",
   "execution_count": null,
   "id": "8b389cdc",
   "metadata": {},
   "outputs": [],
   "source": []
  }
 ],
 "metadata": {
  "jupytext": {
   "cell_metadata_filter": "-all",
   "main_language": "python",
   "notebook_metadata_filter": "-all"
  },
  "kernelspec": {
   "display_name": "Python 3",
   "language": "python",
   "name": "python3"
  },
  "language_info": {
   "codemirror_mode": {
    "name": "ipython",
    "version": 3
   },
   "file_extension": ".py",
   "mimetype": "text/x-python",
   "name": "python",
   "nbconvert_exporter": "python",
   "pygments_lexer": "ipython3",
   "version": "3.9.4"
  },
  "toc": {
   "base_numbering": 1,
   "nav_menu": {},
   "number_sections": true,
   "sideBar": true,
   "skip_h1_title": false,
   "title_cell": "Table of Contents",
   "title_sidebar": "Contents",
   "toc_cell": false,
   "toc_position": {},
   "toc_section_display": true,
   "toc_window_display": true
  }
 },
 "nbformat": 4,
 "nbformat_minor": 5
}

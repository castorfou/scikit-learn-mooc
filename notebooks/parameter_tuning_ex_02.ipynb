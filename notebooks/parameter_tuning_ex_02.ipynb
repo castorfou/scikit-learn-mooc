{
 "cells": [
  {
   "cell_type": "markdown",
   "id": "5cc4f05d",
   "metadata": {},
   "source": [
    "# 📝 Exercise M3.01\n",
    "\n",
    "The goal is to write an exhaustive search to find the best parameters\n",
    "combination maximizing the model statistical performance.\n",
    "\n",
    "Here we use a small subset of the Adult Census dataset to make to code\n",
    "fast to execute. Once your code works on the small subset, try to\n",
    "change `train_size` to a larger value (e.g. 0.8 for 80% instead of\n",
    "20%)."
   ]
  },
  {
   "cell_type": "code",
   "execution_count": 1,
   "id": "b762a7c2",
   "metadata": {
    "ExecuteTime": {
     "end_time": "2021-05-31T09:41:16.158617Z",
     "start_time": "2021-05-31T09:41:15.739787Z"
    }
   },
   "outputs": [],
   "source": [
    "import pandas as pd\n",
    "\n",
    "from sklearn.model_selection import train_test_split\n",
    "\n",
    "adult_census = pd.read_csv(\"../datasets/adult-census.csv\")\n",
    "\n",
    "target_name = \"class\"\n",
    "target = adult_census[target_name]\n",
    "data = adult_census.drop(columns=[target_name, \"education-num\"])\n",
    "\n",
    "data_train, data_test, target_train, target_test = train_test_split(\n",
    "    data, target, train_size=0.2, random_state=42)"
   ]
  },
  {
   "cell_type": "code",
   "execution_count": 2,
   "id": "ea7ec27b",
   "metadata": {
    "ExecuteTime": {
     "end_time": "2021-05-31T09:41:37.056032Z",
     "start_time": "2021-05-31T09:41:36.993317Z"
    }
   },
   "outputs": [],
   "source": [
    "from sklearn.compose import ColumnTransformer\n",
    "from sklearn.compose import make_column_selector as selector\n",
    "from sklearn.preprocessing import OrdinalEncoder\n",
    "\n",
    "categorical_preprocessor = OrdinalEncoder(handle_unknown=\"use_encoded_value\",\n",
    "                                          unknown_value=-1)\n",
    "preprocessor = ColumnTransformer(\n",
    "    [('cat-preprocessor', categorical_preprocessor,\n",
    "      selector(dtype_include=object))],\n",
    "    remainder='passthrough', sparse_threshold=0)\n",
    "\n",
    "# This line is currently required to import HistGradientBoostingClassifier\n",
    "from sklearn.experimental import enable_hist_gradient_boosting\n",
    "from sklearn.ensemble import HistGradientBoostingClassifier\n",
    "from sklearn.pipeline import Pipeline\n",
    "\n",
    "model = Pipeline([\n",
    "    (\"preprocessor\", preprocessor),\n",
    "    (\"classifier\", HistGradientBoostingClassifier(random_state=42))\n",
    "])"
   ]
  },
  {
   "cell_type": "markdown",
   "id": "dda58ab4",
   "metadata": {},
   "source": [
    "\n",
    "Use the previously defined model (called `model`) and using two nested `for`\n",
    "loops, make a search of the best combinations of the `learning_rate` and\n",
    "`max_leaf_nodes` parameters. In this regard, you will need to train and test\n",
    "the model by setting the parameters. The evaluation of the model should be\n",
    "performed using `cross_val_score`. We will use the following parameters\n",
    "search:\n",
    "- `learning_rate` for the values 0.01, 0.1, 1 and 10. This parameter controls\n",
    "  the ability of a new tree to correct the error of the previous sequence of\n",
    "  trees\n",
    "- `max_leaf_nodes` for the values 3, 10, 30. This parameter controls the\n",
    "  depth of each tree."
   ]
  },
  {
   "cell_type": "code",
   "execution_count": 3,
   "id": "28a272c0",
   "metadata": {
    "ExecuteTime": {
     "end_time": "2021-05-31T09:43:34.064905Z",
     "start_time": "2021-05-31T09:43:34.057771Z"
    }
   },
   "outputs": [
    {
     "name": "stdout",
     "output_type": "stream",
     "text": [
      "memory\n",
      "steps\n",
      "verbose\n",
      "preprocessor\n",
      "classifier\n",
      "preprocessor__n_jobs\n",
      "preprocessor__remainder\n",
      "preprocessor__sparse_threshold\n",
      "preprocessor__transformer_weights\n",
      "preprocessor__transformers\n",
      "preprocessor__verbose\n",
      "preprocessor__cat-preprocessor\n",
      "preprocessor__cat-preprocessor__categories\n",
      "preprocessor__cat-preprocessor__dtype\n",
      "preprocessor__cat-preprocessor__handle_unknown\n",
      "preprocessor__cat-preprocessor__unknown_value\n",
      "classifier__categorical_features\n",
      "classifier__early_stopping\n",
      "classifier__l2_regularization\n",
      "classifier__learning_rate\n",
      "classifier__loss\n",
      "classifier__max_bins\n",
      "classifier__max_depth\n",
      "classifier__max_iter\n",
      "classifier__max_leaf_nodes\n",
      "classifier__min_samples_leaf\n",
      "classifier__monotonic_cst\n",
      "classifier__n_iter_no_change\n",
      "classifier__random_state\n",
      "classifier__scoring\n",
      "classifier__tol\n",
      "classifier__validation_fraction\n",
      "classifier__verbose\n",
      "classifier__warm_start\n"
     ]
    }
   ],
   "source": [
    "for parameter in model.get_params():\n",
    "    print(parameter)"
   ]
  },
  {
   "cell_type": "code",
   "execution_count": 5,
   "id": "0090977f",
   "metadata": {
    "ExecuteTime": {
     "end_time": "2021-05-31T09:48:29.215866Z",
     "start_time": "2021-05-31T09:48:13.000820Z"
    }
   },
   "outputs": [
    {
     "name": "stdout",
     "output_type": "stream",
     "text": [
      "Accuracy score via cross-validation using learning_rate:0.01, max_leaf_nodes:3:\n",
      "0.801 +/- 0.002\n",
      "Accuracy score via cross-validation using learning_rate:0.01, max_leaf_nodes:10:\n",
      "0.822 +/- 0.003\n",
      "Accuracy score via cross-validation using learning_rate:0.01, max_leaf_nodes:30:\n",
      "0.849 +/- 0.003\n",
      "Accuracy score via cross-validation using learning_rate:0.1, max_leaf_nodes:3:\n",
      "0.857 +/- 0.003\n",
      "Accuracy score via cross-validation using learning_rate:0.1, max_leaf_nodes:10:\n",
      "0.872 +/- 0.004\n",
      "Accuracy score via cross-validation using learning_rate:0.1, max_leaf_nodes:30:\n",
      "0.875 +/- 0.004\n",
      "Accuracy score via cross-validation using learning_rate:1, max_leaf_nodes:3:\n",
      "0.871 +/- 0.003\n",
      "Accuracy score via cross-validation using learning_rate:1, max_leaf_nodes:10:\n",
      "0.866 +/- 0.002\n",
      "Accuracy score via cross-validation using learning_rate:1, max_leaf_nodes:30:\n",
      "0.861 +/- 0.004\n",
      "Accuracy score via cross-validation using learning_rate:10, max_leaf_nodes:3:\n",
      "0.279 +/- 0.004\n",
      "Accuracy score via cross-validation using learning_rate:10, max_leaf_nodes:10:\n",
      "0.661 +/- 0.191\n",
      "Accuracy score via cross-validation using learning_rate:10, max_leaf_nodes:30:\n",
      "0.467 +/- 0.250\n"
     ]
    }
   ],
   "source": [
    "# Write your code here.\n",
    "from sklearn.model_selection import cross_val_score\n",
    "\n",
    "\n",
    "learning_rate_range = [0.01, 0.1, 1, 10]\n",
    "max_leaf_nodes_range = [3, 10, 30]\n",
    "\n",
    "for learning_rate in learning_rate_range:\n",
    "    for max_leaf_nodes in max_leaf_nodes_range:\n",
    "        model.set_params(classifier__learning_rate=learning_rate)\n",
    "        model.set_params(classifier__max_leaf_nodes=max_leaf_nodes)\n",
    "        scores = cross_val_score(model, data_test, target_test)\n",
    "        print(f\"Accuracy score via cross-validation using learning_rate:{learning_rate}, max_leaf_nodes:{max_leaf_nodes}:\\n\"\n",
    "              f\"{scores.mean():.3f} +/- {scores.std():.3f}\")"
   ]
  },
  {
   "cell_type": "markdown",
   "id": "4fb5d7c7",
   "metadata": {},
   "source": [
    "# correction"
   ]
  },
  {
   "cell_type": "code",
   "execution_count": 6,
   "id": "99bca7d9",
   "metadata": {
    "ExecuteTime": {
     "end_time": "2021-05-31T09:49:26.834192Z",
     "start_time": "2021-05-31T09:49:23.007890Z"
    }
   },
   "outputs": [
    {
     "name": "stdout",
     "output_type": "stream",
     "text": [
      "Evaluating model with learning rate 0.010 and max leaf nodes 3... score: 0.789\n",
      "Found new best model with score 0.789!\n",
      "Evaluating model with learning rate 0.010 and max leaf nodes 10... score: 0.813\n",
      "Found new best model with score 0.813!\n",
      "Evaluating model with learning rate 0.010 and max leaf nodes 30... score: 0.842\n",
      "Found new best model with score 0.842!\n",
      "Evaluating model with learning rate 0.100 and max leaf nodes 3... score: 0.847\n",
      "Found new best model with score 0.847!\n",
      "Evaluating model with learning rate 0.100 and max leaf nodes 10... score: 0.859\n",
      "Found new best model with score 0.859!\n",
      "Evaluating model with learning rate 0.100 and max leaf nodes 30... score: 0.857\n",
      "Evaluating model with learning rate 1.000 and max leaf nodes 3... score: 0.852\n",
      "Evaluating model with learning rate 1.000 and max leaf nodes 10... score: 0.833\n",
      "Evaluating model with learning rate 1.000 and max leaf nodes 30... score: 0.828\n",
      "Evaluating model with learning rate 10.000 and max leaf nodes 3... score: 0.288\n",
      "Evaluating model with learning rate 10.000 and max leaf nodes 10... score: 0.480\n",
      "Evaluating model with learning rate 10.000 and max leaf nodes 30... score: 0.639\n",
      "The best accuracy obtained is 0.859\n",
      "The best parameters found are:\n",
      " {'learning-rate': 0.1, 'max leaf nodes': 10}\n"
     ]
    }
   ],
   "source": [
    "from sklearn.model_selection import cross_val_score\n",
    "\n",
    "learning_rate = [0.01, 0.1, 1, 10]\n",
    "max_leaf_nodes = [3, 10, 30]\n",
    "\n",
    "best_score = 0\n",
    "best_params = {}\n",
    "for lr in learning_rate:\n",
    "    for mln in max_leaf_nodes:\n",
    "        print(f\"Evaluating model with learning rate {lr:.3f}\"\n",
    "              f\" and max leaf nodes {mln}... \", end=\"\")\n",
    "        model.set_params(\n",
    "            classifier__learning_rate=lr,\n",
    "            classifier__max_leaf_nodes=mln\n",
    "        )\n",
    "        scores = cross_val_score(model, data_train, target_train, cv=2)\n",
    "        mean_score = scores.mean()\n",
    "        print(f\"score: {mean_score:.3f}\")\n",
    "        if mean_score > best_score:\n",
    "            best_score = mean_score\n",
    "            best_params = {'learning-rate': lr, 'max leaf nodes': mln}\n",
    "            print(f\"Found new best model with score {best_score:.3f}!\")\n",
    "\n",
    "print(f\"The best accuracy obtained is {best_score:.3f}\")\n",
    "print(f\"The best parameters found are:\\n {best_params}\")"
   ]
  },
  {
   "cell_type": "code",
   "execution_count": null,
   "id": "22af182e",
   "metadata": {},
   "outputs": [],
   "source": []
  }
 ],
 "metadata": {
  "kernelspec": {
   "display_name": "Python 3",
   "language": "python",
   "name": "python3"
  },
  "language_info": {
   "codemirror_mode": {
    "name": "ipython",
    "version": 3
   },
   "file_extension": ".py",
   "mimetype": "text/x-python",
   "name": "python",
   "nbconvert_exporter": "python",
   "pygments_lexer": "ipython3",
   "version": "3.9.4"
  },
  "toc": {
   "base_numbering": 1,
   "nav_menu": {},
   "number_sections": true,
   "sideBar": true,
   "skip_h1_title": false,
   "title_cell": "Table of Contents",
   "title_sidebar": "Contents",
   "toc_cell": false,
   "toc_position": {},
   "toc_section_display": true,
   "toc_window_display": true
  }
 },
 "nbformat": 4,
 "nbformat_minor": 5
}

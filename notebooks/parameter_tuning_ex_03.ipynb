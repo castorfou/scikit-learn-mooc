{
 "cells": [
  {
   "cell_type": "markdown",
   "id": "4c898dc3",
   "metadata": {},
   "source": [
    "# 📝 Exercise M3.02\n",
    "\n",
    "The goal is to find the best set of hyperparameters which maximize the\n",
    "statistical performance on a training set.\n",
    "\n",
    "Here again with limit the size of the training set to make computation\n",
    "run faster. Feel free to increase the `train_size` value if your computer\n",
    "is powerful enough."
   ]
  },
  {
   "cell_type": "code",
   "execution_count": 1,
   "id": "e4e238b4",
   "metadata": {
    "ExecuteTime": {
     "end_time": "2021-06-01T06:20:26.130840Z",
     "start_time": "2021-06-01T06:20:25.701008Z"
    }
   },
   "outputs": [],
   "source": [
    "import numpy as np\n",
    "import pandas as pd\n",
    "\n",
    "adult_census = pd.read_csv(\"../datasets/adult-census.csv\")\n",
    "\n",
    "target_name = \"class\"\n",
    "target = adult_census[target_name]\n",
    "data = adult_census.drop(columns=[target_name, \"education-num\"])\n",
    "\n",
    "from sklearn.model_selection import train_test_split\n",
    "\n",
    "data_train, data_test, target_train, target_test = train_test_split(\n",
    "    data, target, random_state=42)"
   ]
  },
  {
   "cell_type": "markdown",
   "id": "dcb1e468",
   "metadata": {},
   "source": [
    "Create your machine learning pipeline\n",
    "\n",
    "You should:\n",
    "* preprocess the categorical columns using a `OneHotEncoder` and use a\n",
    "  `StandardScaler` to normalize the numerical data.\n",
    "* use a `LogisticRegression` as a predictive model."
   ]
  },
  {
   "cell_type": "markdown",
   "id": "7c0a9a2d",
   "metadata": {},
   "source": [
    "Start by defining the columns and the preprocessing pipelines to be applied\n",
    "on each columns."
   ]
  },
  {
   "cell_type": "code",
   "execution_count": 2,
   "id": "54ce4142",
   "metadata": {
    "ExecuteTime": {
     "end_time": "2021-06-01T06:27:42.588356Z",
     "start_time": "2021-06-01T06:27:42.586124Z"
    }
   },
   "outputs": [],
   "source": [
    "from sklearn.preprocessing import OneHotEncoder\n",
    "from sklearn.preprocessing import StandardScaler\n",
    "\n",
    "categorical_preprocessor = OneHotEncoder()\n",
    "numerical_preprocessor = StandardScaler()"
   ]
  },
  {
   "cell_type": "markdown",
   "id": "67425db8",
   "metadata": {},
   "source": [
    "Subsequently, create a `ColumnTransformer` to redirect the specific columns\n",
    "a preprocessing pipeline."
   ]
  },
  {
   "cell_type": "code",
   "execution_count": 3,
   "id": "6ecfeb45",
   "metadata": {
    "ExecuteTime": {
     "end_time": "2021-06-01T06:32:20.261190Z",
     "start_time": "2021-06-01T06:32:20.256635Z"
    }
   },
   "outputs": [],
   "source": [
    "from sklearn.compose import ColumnTransformer\n",
    "from sklearn.compose import make_column_selector as selector\n",
    "\n",
    "preprocessor = ColumnTransformer([\n",
    "    ('cat-preprocessor', categorical_preprocessor, selector(dtype_include=object)),\n",
    "    ('num-preprocessor', numerical_preprocessor, selector(dtype_include='number'))],\n",
    "    remainder='passthrough', sparse_threshold=0)\n"
   ]
  },
  {
   "cell_type": "markdown",
   "id": "a6d1b866",
   "metadata": {},
   "source": [
    "Finally, concatenate the preprocessing pipeline with a logistic regression."
   ]
  },
  {
   "cell_type": "code",
   "execution_count": 4,
   "id": "87e6044b",
   "metadata": {
    "ExecuteTime": {
     "end_time": "2021-06-01T06:33:20.556052Z",
     "start_time": "2021-06-01T06:33:20.542053Z"
    }
   },
   "outputs": [],
   "source": [
    "from sklearn.pipeline import make_pipeline\n",
    "from sklearn.linear_model import LogisticRegression\n",
    "\n",
    "model = make_pipeline(preprocessor, LogisticRegression())"
   ]
  },
  {
   "cell_type": "markdown",
   "id": "e41cf0f4",
   "metadata": {},
   "source": [
    "Use a `RandomizedSearchCV` to find the best set of hyperparameters by tuning\n",
    "the following parameters of the `model`:\n",
    "\n",
    "- the parameter `C` of the `LogisticRegression` with values ranging from\n",
    "  0.001 to 10. You can use a log-uniform distribution\n",
    "  (i.e. `scipy.stats.loguniform`);\n",
    "- the parameter `with_mean` of the `StandardScaler` with possible values\n",
    "  `True` or `False`;\n",
    "- the parameter `with_std` of the `StandardScaler` with possible values\n",
    "  `True` or `False`.\n",
    "\n",
    "Once the computation has completed, print the best combination of parameters\n",
    "stored in the `best_params_` attribute."
   ]
  },
  {
   "cell_type": "code",
   "execution_count": 6,
   "id": "ab01220c",
   "metadata": {
    "ExecuteTime": {
     "end_time": "2021-06-01T06:35:03.201512Z",
     "start_time": "2021-06-01T06:35:03.185303Z"
    }
   },
   "outputs": [
    {
     "data": {
      "text/html": [
       "<style>#sk-1f1e96fe-e59a-44a0-91f2-860bad96f5e6 {color: black;background-color: white;}#sk-1f1e96fe-e59a-44a0-91f2-860bad96f5e6 pre{padding: 0;}#sk-1f1e96fe-e59a-44a0-91f2-860bad96f5e6 div.sk-toggleable {background-color: white;}#sk-1f1e96fe-e59a-44a0-91f2-860bad96f5e6 label.sk-toggleable__label {cursor: pointer;display: block;width: 100%;margin-bottom: 0;padding: 0.2em 0.3em;box-sizing: border-box;text-align: center;}#sk-1f1e96fe-e59a-44a0-91f2-860bad96f5e6 div.sk-toggleable__content {max-height: 0;max-width: 0;overflow: hidden;text-align: left;background-color: #f0f8ff;}#sk-1f1e96fe-e59a-44a0-91f2-860bad96f5e6 div.sk-toggleable__content pre {margin: 0.2em;color: black;border-radius: 0.25em;background-color: #f0f8ff;}#sk-1f1e96fe-e59a-44a0-91f2-860bad96f5e6 input.sk-toggleable__control:checked~div.sk-toggleable__content {max-height: 200px;max-width: 100%;overflow: auto;}#sk-1f1e96fe-e59a-44a0-91f2-860bad96f5e6 div.sk-estimator input.sk-toggleable__control:checked~label.sk-toggleable__label {background-color: #d4ebff;}#sk-1f1e96fe-e59a-44a0-91f2-860bad96f5e6 div.sk-label input.sk-toggleable__control:checked~label.sk-toggleable__label {background-color: #d4ebff;}#sk-1f1e96fe-e59a-44a0-91f2-860bad96f5e6 input.sk-hidden--visually {border: 0;clip: rect(1px 1px 1px 1px);clip: rect(1px, 1px, 1px, 1px);height: 1px;margin: -1px;overflow: hidden;padding: 0;position: absolute;width: 1px;}#sk-1f1e96fe-e59a-44a0-91f2-860bad96f5e6 div.sk-estimator {font-family: monospace;background-color: #f0f8ff;margin: 0.25em 0.25em;border: 1px dotted black;border-radius: 0.25em;box-sizing: border-box;}#sk-1f1e96fe-e59a-44a0-91f2-860bad96f5e6 div.sk-estimator:hover {background-color: #d4ebff;}#sk-1f1e96fe-e59a-44a0-91f2-860bad96f5e6 div.sk-parallel-item::after {content: \"\";width: 100%;border-bottom: 1px solid gray;flex-grow: 1;}#sk-1f1e96fe-e59a-44a0-91f2-860bad96f5e6 div.sk-label:hover label.sk-toggleable__label {background-color: #d4ebff;}#sk-1f1e96fe-e59a-44a0-91f2-860bad96f5e6 div.sk-serial::before {content: \"\";position: absolute;border-left: 1px solid gray;box-sizing: border-box;top: 2em;bottom: 0;left: 50%;}#sk-1f1e96fe-e59a-44a0-91f2-860bad96f5e6 div.sk-serial {display: flex;flex-direction: column;align-items: center;background-color: white;}#sk-1f1e96fe-e59a-44a0-91f2-860bad96f5e6 div.sk-item {z-index: 1;}#sk-1f1e96fe-e59a-44a0-91f2-860bad96f5e6 div.sk-parallel {display: flex;align-items: stretch;justify-content: center;background-color: white;}#sk-1f1e96fe-e59a-44a0-91f2-860bad96f5e6 div.sk-parallel-item {display: flex;flex-direction: column;position: relative;background-color: white;}#sk-1f1e96fe-e59a-44a0-91f2-860bad96f5e6 div.sk-parallel-item:first-child::after {align-self: flex-end;width: 50%;}#sk-1f1e96fe-e59a-44a0-91f2-860bad96f5e6 div.sk-parallel-item:last-child::after {align-self: flex-start;width: 50%;}#sk-1f1e96fe-e59a-44a0-91f2-860bad96f5e6 div.sk-parallel-item:only-child::after {width: 0;}#sk-1f1e96fe-e59a-44a0-91f2-860bad96f5e6 div.sk-dashed-wrapped {border: 1px dashed gray;margin: 0.2em;box-sizing: border-box;padding-bottom: 0.1em;background-color: white;position: relative;}#sk-1f1e96fe-e59a-44a0-91f2-860bad96f5e6 div.sk-label label {font-family: monospace;font-weight: bold;background-color: white;display: inline-block;line-height: 1.2em;}#sk-1f1e96fe-e59a-44a0-91f2-860bad96f5e6 div.sk-label-container {position: relative;z-index: 2;text-align: center;}#sk-1f1e96fe-e59a-44a0-91f2-860bad96f5e6 div.sk-container {display: inline-block;position: relative;}</style><div id=\"sk-1f1e96fe-e59a-44a0-91f2-860bad96f5e6\" class\"sk-top-container\"><div class=\"sk-container\"><div class=\"sk-item sk-dashed-wrapped\"><div class=\"sk-label-container\"><div class=\"sk-label sk-toggleable\"><input class=\"sk-toggleable__control sk-hidden--visually\" id=\"84c49e06-34e1-4153-8d0e-19c712608cb9\" type=\"checkbox\" ><label class=\"sk-toggleable__label\" for=\"84c49e06-34e1-4153-8d0e-19c712608cb9\">Pipeline</label><div class=\"sk-toggleable__content\"><pre>Pipeline(steps=[('columntransformer',\n",
       "                 ColumnTransformer(remainder='passthrough', sparse_threshold=0,\n",
       "                                   transformers=[('cat-preprocessor',\n",
       "                                                  OneHotEncoder(),\n",
       "                                                  <sklearn.compose._column_transformer.make_column_selector object at 0x7ffa45222b50>),\n",
       "                                                 ('num-preprocessor',\n",
       "                                                  StandardScaler(),\n",
       "                                                  <sklearn.compose._column_transformer.make_column_selector object at 0x7ffa45c2c520>)])),\n",
       "                ('logisticregression', LogisticRegression())])</pre></div></div></div><div class=\"sk-serial\"><div class=\"sk-item sk-dashed-wrapped\"><div class=\"sk-label-container\"><div class=\"sk-label sk-toggleable\"><input class=\"sk-toggleable__control sk-hidden--visually\" id=\"e17919f8-353e-4ead-80e9-5812c1546bd1\" type=\"checkbox\" ><label class=\"sk-toggleable__label\" for=\"e17919f8-353e-4ead-80e9-5812c1546bd1\">columntransformer: ColumnTransformer</label><div class=\"sk-toggleable__content\"><pre>ColumnTransformer(remainder='passthrough', sparse_threshold=0,\n",
       "                  transformers=[('cat-preprocessor', OneHotEncoder(),\n",
       "                                 <sklearn.compose._column_transformer.make_column_selector object at 0x7ffa45222b50>),\n",
       "                                ('num-preprocessor', StandardScaler(),\n",
       "                                 <sklearn.compose._column_transformer.make_column_selector object at 0x7ffa45c2c520>)])</pre></div></div></div><div class=\"sk-parallel\"><div class=\"sk-parallel-item\"><div class=\"sk-item\"><div class=\"sk-label-container\"><div class=\"sk-label sk-toggleable\"><input class=\"sk-toggleable__control sk-hidden--visually\" id=\"7af9ac3f-7384-49c8-8448-f05647762f06\" type=\"checkbox\" ><label class=\"sk-toggleable__label\" for=\"7af9ac3f-7384-49c8-8448-f05647762f06\">cat-preprocessor</label><div class=\"sk-toggleable__content\"><pre><sklearn.compose._column_transformer.make_column_selector object at 0x7ffa45222b50></pre></div></div></div><div class=\"sk-serial\"><div class=\"sk-item\"><div class=\"sk-estimator sk-toggleable\"><input class=\"sk-toggleable__control sk-hidden--visually\" id=\"d9fbe84e-36f8-4b02-80a7-3017dd9809ab\" type=\"checkbox\" ><label class=\"sk-toggleable__label\" for=\"d9fbe84e-36f8-4b02-80a7-3017dd9809ab\">OneHotEncoder</label><div class=\"sk-toggleable__content\"><pre>OneHotEncoder()</pre></div></div></div></div></div></div><div class=\"sk-parallel-item\"><div class=\"sk-item\"><div class=\"sk-label-container\"><div class=\"sk-label sk-toggleable\"><input class=\"sk-toggleable__control sk-hidden--visually\" id=\"f389d785-2a70-48de-993c-6befd4c678fa\" type=\"checkbox\" ><label class=\"sk-toggleable__label\" for=\"f389d785-2a70-48de-993c-6befd4c678fa\">num-preprocessor</label><div class=\"sk-toggleable__content\"><pre><sklearn.compose._column_transformer.make_column_selector object at 0x7ffa45c2c520></pre></div></div></div><div class=\"sk-serial\"><div class=\"sk-item\"><div class=\"sk-estimator sk-toggleable\"><input class=\"sk-toggleable__control sk-hidden--visually\" id=\"d1d23b45-9e30-41f1-b71a-f952b2c47eb7\" type=\"checkbox\" ><label class=\"sk-toggleable__label\" for=\"d1d23b45-9e30-41f1-b71a-f952b2c47eb7\">StandardScaler</label><div class=\"sk-toggleable__content\"><pre>StandardScaler()</pre></div></div></div></div></div></div><div class=\"sk-parallel-item\"><div class=\"sk-item\"><div class=\"sk-label-container\"><div class=\"sk-label sk-toggleable\"><input class=\"sk-toggleable__control sk-hidden--visually\" id=\"592e0d27-cf2e-45e5-93e2-d7e5b8ddfcad\" type=\"checkbox\" ><label class=\"sk-toggleable__label\" for=\"592e0d27-cf2e-45e5-93e2-d7e5b8ddfcad\">remainder</label><div class=\"sk-toggleable__content\"><pre></pre></div></div></div><div class=\"sk-serial\"><div class=\"sk-item\"><div class=\"sk-estimator sk-toggleable\"><input class=\"sk-toggleable__control sk-hidden--visually\" id=\"68b2462e-67ba-4a90-9f83-e5b2a6c9a7bb\" type=\"checkbox\" ><label class=\"sk-toggleable__label\" for=\"68b2462e-67ba-4a90-9f83-e5b2a6c9a7bb\">passthrough</label><div class=\"sk-toggleable__content\"><pre>passthrough</pre></div></div></div></div></div></div></div></div><div class=\"sk-item\"><div class=\"sk-estimator sk-toggleable\"><input class=\"sk-toggleable__control sk-hidden--visually\" id=\"4229da4f-1483-4431-b39a-ee5af8bf1a83\" type=\"checkbox\" ><label class=\"sk-toggleable__label\" for=\"4229da4f-1483-4431-b39a-ee5af8bf1a83\">LogisticRegression</label><div class=\"sk-toggleable__content\"><pre>LogisticRegression()</pre></div></div></div></div></div></div></div>"
      ],
      "text/plain": [
       "Pipeline(steps=[('columntransformer',\n",
       "                 ColumnTransformer(remainder='passthrough', sparse_threshold=0,\n",
       "                                   transformers=[('cat-preprocessor',\n",
       "                                                  OneHotEncoder(),\n",
       "                                                  <sklearn.compose._column_transformer.make_column_selector object at 0x7ffa45222b50>),\n",
       "                                                 ('num-preprocessor',\n",
       "                                                  StandardScaler(),\n",
       "                                                  <sklearn.compose._column_transformer.make_column_selector object at 0x7ffa45c2c520>)])),\n",
       "                ('logisticregression', LogisticRegression())])"
      ]
     },
     "execution_count": 6,
     "metadata": {},
     "output_type": "execute_result"
    }
   ],
   "source": [
    "from sklearn import set_config\n",
    "set_config(display='diagram')\n",
    "model"
   ]
  },
  {
   "cell_type": "code",
   "execution_count": 7,
   "id": "a07a5556",
   "metadata": {
    "ExecuteTime": {
     "end_time": "2021-06-01T06:36:03.251676Z",
     "start_time": "2021-06-01T06:36:03.241597Z"
    }
   },
   "outputs": [
    {
     "data": {
      "text/plain": [
       "{'memory': None,\n",
       " 'steps': [('columntransformer',\n",
       "   ColumnTransformer(remainder='passthrough', sparse_threshold=0,\n",
       "                     transformers=[('cat-preprocessor', OneHotEncoder(),\n",
       "                                    <sklearn.compose._column_transformer.make_column_selector object at 0x7ffa45222b50>),\n",
       "                                   ('num-preprocessor', StandardScaler(),\n",
       "                                    <sklearn.compose._column_transformer.make_column_selector object at 0x7ffa45c2c520>)])),\n",
       "  ('logisticregression', LogisticRegression())],\n",
       " 'verbose': False,\n",
       " 'columntransformer': ColumnTransformer(remainder='passthrough', sparse_threshold=0,\n",
       "                   transformers=[('cat-preprocessor', OneHotEncoder(),\n",
       "                                  <sklearn.compose._column_transformer.make_column_selector object at 0x7ffa45222b50>),\n",
       "                                 ('num-preprocessor', StandardScaler(),\n",
       "                                  <sklearn.compose._column_transformer.make_column_selector object at 0x7ffa45c2c520>)]),\n",
       " 'logisticregression': LogisticRegression(),\n",
       " 'columntransformer__n_jobs': None,\n",
       " 'columntransformer__remainder': 'passthrough',\n",
       " 'columntransformer__sparse_threshold': 0,\n",
       " 'columntransformer__transformer_weights': None,\n",
       " 'columntransformer__transformers': [('cat-preprocessor',\n",
       "   OneHotEncoder(),\n",
       "   <sklearn.compose._column_transformer.make_column_selector at 0x7ffa45222b50>),\n",
       "  ('num-preprocessor',\n",
       "   StandardScaler(),\n",
       "   <sklearn.compose._column_transformer.make_column_selector at 0x7ffa45c2c520>)],\n",
       " 'columntransformer__verbose': False,\n",
       " 'columntransformer__cat-preprocessor': OneHotEncoder(),\n",
       " 'columntransformer__num-preprocessor': StandardScaler(),\n",
       " 'columntransformer__cat-preprocessor__categories': 'auto',\n",
       " 'columntransformer__cat-preprocessor__drop': None,\n",
       " 'columntransformer__cat-preprocessor__dtype': numpy.float64,\n",
       " 'columntransformer__cat-preprocessor__handle_unknown': 'error',\n",
       " 'columntransformer__cat-preprocessor__sparse': True,\n",
       " 'columntransformer__num-preprocessor__copy': True,\n",
       " 'columntransformer__num-preprocessor__with_mean': True,\n",
       " 'columntransformer__num-preprocessor__with_std': True,\n",
       " 'logisticregression__C': 1.0,\n",
       " 'logisticregression__class_weight': None,\n",
       " 'logisticregression__dual': False,\n",
       " 'logisticregression__fit_intercept': True,\n",
       " 'logisticregression__intercept_scaling': 1,\n",
       " 'logisticregression__l1_ratio': None,\n",
       " 'logisticregression__max_iter': 100,\n",
       " 'logisticregression__multi_class': 'auto',\n",
       " 'logisticregression__n_jobs': None,\n",
       " 'logisticregression__penalty': 'l2',\n",
       " 'logisticregression__random_state': None,\n",
       " 'logisticregression__solver': 'lbfgs',\n",
       " 'logisticregression__tol': 0.0001,\n",
       " 'logisticregression__verbose': 0,\n",
       " 'logisticregression__warm_start': False}"
      ]
     },
     "execution_count": 7,
     "metadata": {},
     "output_type": "execute_result"
    }
   ],
   "source": [
    "model.get_params()"
   ]
  },
  {
   "cell_type": "code",
   "execution_count": 26,
   "id": "026fa803",
   "metadata": {
    "ExecuteTime": {
     "end_time": "2021-06-01T06:57:52.909710Z",
     "start_time": "2021-06-01T06:57:24.112248Z"
    }
   },
   "outputs": [
    {
     "name": "stdout",
     "output_type": "stream",
     "text": [
      "Fitting 5 folds for each of 20 candidates, totalling 100 fits\n"
     ]
    },
    {
     "name": "stderr",
     "output_type": "stream",
     "text": [
      "/home/explore/miniconda3/envs/scikit-learn-course/lib/python3.9/site-packages/sklearn/model_selection/_search.py:922: UserWarning: One or more of the test scores are non-finite: [nan nan nan nan nan nan nan nan nan nan nan nan nan nan nan nan nan nan\n",
      " nan nan]\n",
      "  warnings.warn(\n",
      "/home/explore/miniconda3/envs/scikit-learn-course/lib/python3.9/site-packages/sklearn/linear_model/_logistic.py:763: ConvergenceWarning: lbfgs failed to converge (status=1):\n",
      "STOP: TOTAL NO. of ITERATIONS REACHED LIMIT.\n",
      "\n",
      "Increase the number of iterations (max_iter) or scale the data as shown in:\n",
      "    https://scikit-learn.org/stable/modules/preprocessing.html\n",
      "Please also refer to the documentation for alternative solver options:\n",
      "    https://scikit-learn.org/stable/modules/linear_model.html#logistic-regression\n",
      "  n_iter_i = _check_optimize_result(\n"
     ]
    },
    {
     "data": {
      "text/plain": [
       "{'columntransformer__num-preprocessor__with_mean': False,\n",
       " 'columntransformer__num-preprocessor__with_std': True,\n",
       " 'logisticregression__C': 0.7525407580316168}"
      ]
     },
     "execution_count": 26,
     "metadata": {},
     "output_type": "execute_result"
    }
   ],
   "source": [
    "from sklearn.model_selection import RandomizedSearchCV\n",
    "from scipy.stats import loguniform\n",
    "\n",
    "# the parameter C of the LogisticRegression with values ranging from 0.001 to 10. You can use a log-uniform distribution (i.e. scipy.stats.loguniform);\n",
    "# the parameter with_mean of the StandardScaler with possible values True or False;\n",
    "# the parameter with_std of the StandardScaler with possible values True or False.\n",
    "param_distributions = {\n",
    "    \"logisticregression__C\": loguniform(0.001, 10),\n",
    "    \"columntransformer__num-preprocessor__with_mean\": [True, False],\n",
    "    \"columntransformer__num-preprocessor__with_std\": [True, False],\n",
    "}\n",
    "\n",
    "model_random_search = RandomizedSearchCV(\n",
    "    model, param_distributions=param_distributions,\n",
    "    n_iter=20, error_score=np.nan, n_jobs=-1, verbose=1)\n",
    "model_random_search.fit(data_train, target_train)\n",
    "model_random_search.best_params_"
   ]
  },
  {
   "cell_type": "code",
   "execution_count": null,
   "id": "04cadadc",
   "metadata": {},
   "outputs": [],
   "source": []
  }
 ],
 "metadata": {
  "kernelspec": {
   "display_name": "Python 3",
   "language": "python",
   "name": "python3"
  },
  "language_info": {
   "codemirror_mode": {
    "name": "ipython",
    "version": 3
   },
   "file_extension": ".py",
   "mimetype": "text/x-python",
   "name": "python",
   "nbconvert_exporter": "python",
   "pygments_lexer": "ipython3",
   "version": "3.9.4"
  },
  "toc": {
   "base_numbering": 1,
   "nav_menu": {},
   "number_sections": true,
   "sideBar": true,
   "skip_h1_title": false,
   "title_cell": "Table of Contents",
   "title_sidebar": "Contents",
   "toc_cell": false,
   "toc_position": {},
   "toc_section_display": true,
   "toc_window_display": true
  }
 },
 "nbformat": 4,
 "nbformat_minor": 5
}

{
 "cells": [
  {
   "cell_type": "markdown",
   "id": "ac4b8bd7",
   "metadata": {},
   "source": [
    "# 📝 Introductory exercise for sample grouping\n",
    "\n",
    "This exercise aims at highlighting issues that one could encounter when\n",
    "discarding grouping pattern existing in a dataset.\n",
    "\n",
    "We will use the digits dataset which includes some grouping pattern."
   ]
  },
  {
   "cell_type": "code",
   "execution_count": 1,
   "id": "84aad7cc",
   "metadata": {
    "ExecuteTime": {
     "end_time": "2021-06-24T07:11:54.373465Z",
     "start_time": "2021-06-24T07:11:53.966229Z"
    }
   },
   "outputs": [],
   "source": [
    "from sklearn.datasets import load_digits\n",
    "\n",
    "data, target = load_digits(return_X_y=True, as_frame=True)"
   ]
  },
  {
   "cell_type": "markdown",
   "id": "4a2052d6",
   "metadata": {},
   "source": [
    "The first step is to create a model. Use a machine learning pipeline\n",
    "composed of a scaler followed by a logistic regression classifier."
   ]
  },
  {
   "cell_type": "code",
   "execution_count": 2,
   "id": "cde23180",
   "metadata": {
    "ExecuteTime": {
     "end_time": "2021-06-24T07:12:44.547983Z",
     "start_time": "2021-06-24T07:12:44.526004Z"
    }
   },
   "outputs": [],
   "source": [
    "# Write your code here.\n",
    "from sklearn.pipeline import make_pipeline\n",
    "from sklearn.linear_model import LogisticRegression\n",
    "from sklearn.preprocessing import StandardScaler\n",
    "\n",
    "pipeline = make_pipeline(StandardScaler(), LogisticRegression())"
   ]
  },
  {
   "cell_type": "markdown",
   "id": "8f94a238",
   "metadata": {},
   "source": [
    "Then, create a a `KFold` object making sure that the data will not be\n",
    "shuffled during the cross-validation. Use the previous model, data, and\n",
    "cross-validation strategy defined to estimate the statistical performance of\n",
    "the model."
   ]
  },
  {
   "cell_type": "code",
   "execution_count": 3,
   "id": "a35075f8",
   "metadata": {
    "ExecuteTime": {
     "end_time": "2021-06-24T07:13:23.773051Z",
     "start_time": "2021-06-24T07:13:23.412644Z"
    }
   },
   "outputs": [
    {
     "name": "stdout",
     "output_type": "stream",
     "text": [
      "[0.92487479 0.93989983 0.92654424]\n"
     ]
    }
   ],
   "source": [
    "# Write your code here.\n",
    "from sklearn.model_selection import cross_val_score\n",
    "from sklearn.model_selection import KFold\n",
    "\n",
    "cv = KFold(n_splits=3)\n",
    "\n",
    "score = cross_val_score(pipeline, data, target, cv=cv)\n",
    "\n",
    "print(score)"
   ]
  },
  {
   "cell_type": "markdown",
   "id": "0e6c7d08",
   "metadata": {},
   "source": [
    "Finally, perform the same experiment by shuffling the data within the\n",
    "cross-validation. Draw some conclusion regarding the dataset."
   ]
  },
  {
   "cell_type": "code",
   "execution_count": 4,
   "id": "df4ba969",
   "metadata": {
    "ExecuteTime": {
     "end_time": "2021-06-24T07:13:41.351204Z",
     "start_time": "2021-06-24T07:13:40.968664Z"
    }
   },
   "outputs": [
    {
     "name": "stdout",
     "output_type": "stream",
     "text": [
      "[0.97161937 0.96661102 0.96828047]\n"
     ]
    }
   ],
   "source": [
    "# Write your code here.\n",
    "cv = KFold(n_splits=3, shuffle=True)\n",
    "\n",
    "score = cross_val_score(pipeline, data, target, cv=cv)\n",
    "\n",
    "print(score)"
   ]
  },
  {
   "cell_type": "code",
   "execution_count": null,
   "id": "8ae9eba2",
   "metadata": {},
   "outputs": [],
   "source": []
  }
 ],
 "metadata": {
  "jupytext": {
   "cell_metadata_filter": "-all",
   "main_language": "python",
   "notebook_metadata_filter": "-all"
  },
  "kernelspec": {
   "display_name": "Python 3",
   "language": "python",
   "name": "python3"
  },
  "language_info": {
   "codemirror_mode": {
    "name": "ipython",
    "version": 3
   },
   "file_extension": ".py",
   "mimetype": "text/x-python",
   "name": "python",
   "nbconvert_exporter": "python",
   "pygments_lexer": "ipython3",
   "version": "3.9.4"
  },
  "toc": {
   "base_numbering": 1,
   "nav_menu": {},
   "number_sections": true,
   "sideBar": true,
   "skip_h1_title": false,
   "title_cell": "Table of Contents",
   "title_sidebar": "Contents",
   "toc_cell": false,
   "toc_position": {},
   "toc_section_display": true,
   "toc_window_display": false
  }
 },
 "nbformat": 4,
 "nbformat_minor": 5
}
